{
  "nbformat": 4,
  "nbformat_minor": 0,
  "metadata": {
    "kernelspec": {
      "display_name": "Python 3",
      "language": "python",
      "name": "python3"
    },
    "language_info": {
      "codemirror_mode": {
        "name": "ipython",
        "version": 3
      },
      "file_extension": ".py",
      "mimetype": "text/x-python",
      "name": "python",
      "nbconvert_exporter": "python",
      "pygments_lexer": "ipython3",
      "version": "3.8.3"
    },
    "colab": {
      "name": "OD-3 Project.ipynb",
      "provenance": []
    }
  },
  "cells": [
    {
      "cell_type": "markdown",
      "metadata": {
        "id": "Z4JaSOnIHFns"
      },
      "source": [
        "# OD-3. A/Б-тест для оценки эффективности введения новой фичи\n",
        "\n",
        "### PROJECT. Расчёт статистической значимости\n",
        "Для понимания эффективности новой фичи нужно\n",
        "1. Рассчитать, насколько различаются конверсия, средний чек и ARPU пользователей в группах А и Б (ID теста 127, даты проведения: с 2019-08-05 до 2019-08-11 включительно).\n",
        "2. Сформировать выводы по анализу.\n"
      ]
    },
    {
      "cell_type": "code",
      "metadata": {
        "id": "rlk08dBCHFn1"
      },
      "source": [
        "# Импорты нужных библиотек и функций\n",
        "import pandas as pd\n",
        "import numpy as np\n",
        "import matplotlib.pyplot as plt\n",
        "from scipy import stats\n",
        "from statsmodels.stats.proportion import proportion_confint\n",
        "from statsmodels.stats.weightstats import ztest\n",
        "from datetime import datetime"
      ],
      "execution_count": null,
      "outputs": []
    },
    {
      "cell_type": "code",
      "metadata": {
        "colab": {
          "base_uri": "https://localhost:8080/",
          "height": 204
        },
        "id": "MnYLDGUcHFn4",
        "outputId": "c5c987a2-4791-44fa-dc2a-0921484247ea"
      },
      "source": [
        "#Загрузка данных о разделении пользователей на группы\n",
        "ab_test_groups = pd.read_csv('ab_test_groups.csv')\n",
        "ab_test_groups.head()"
      ],
      "execution_count": null,
      "outputs": [
        {
          "output_type": "execute_result",
          "data": {
            "text/html": [
              "<div>\n",
              "<style scoped>\n",
              "    .dataframe tbody tr th:only-of-type {\n",
              "        vertical-align: middle;\n",
              "    }\n",
              "\n",
              "    .dataframe tbody tr th {\n",
              "        vertical-align: top;\n",
              "    }\n",
              "\n",
              "    .dataframe thead th {\n",
              "        text-align: right;\n",
              "    }\n",
              "</style>\n",
              "<table border=\"1\" class=\"dataframe\">\n",
              "  <thead>\n",
              "    <tr style=\"text-align: right;\">\n",
              "      <th></th>\n",
              "      <th>user_id</th>\n",
              "      <th>grp</th>\n",
              "      <th>ab_test_id</th>\n",
              "    </tr>\n",
              "  </thead>\n",
              "  <tbody>\n",
              "    <tr>\n",
              "      <th>0</th>\n",
              "      <td>1</td>\n",
              "      <td>B</td>\n",
              "      <td>132</td>\n",
              "    </tr>\n",
              "    <tr>\n",
              "      <th>1</th>\n",
              "      <td>2</td>\n",
              "      <td>A</td>\n",
              "      <td>132</td>\n",
              "    </tr>\n",
              "    <tr>\n",
              "      <th>2</th>\n",
              "      <td>3</td>\n",
              "      <td>B</td>\n",
              "      <td>132</td>\n",
              "    </tr>\n",
              "    <tr>\n",
              "      <th>3</th>\n",
              "      <td>4</td>\n",
              "      <td>A</td>\n",
              "      <td>132</td>\n",
              "    </tr>\n",
              "    <tr>\n",
              "      <th>4</th>\n",
              "      <td>5</td>\n",
              "      <td>B</td>\n",
              "      <td>132</td>\n",
              "    </tr>\n",
              "  </tbody>\n",
              "</table>\n",
              "</div>"
            ],
            "text/plain": [
              "   user_id grp  ab_test_id\n",
              "0        1   B         132\n",
              "1        2   A         132\n",
              "2        3   B         132\n",
              "3        4   A         132\n",
              "4        5   B         132"
            ]
          },
          "metadata": {},
          "execution_count": 36
        }
      ]
    },
    {
      "cell_type": "code",
      "metadata": {
        "id": "UIxj0AhBHFn6"
      },
      "source": [
        "#Так как ID нужного теста 127, выберем только такие строки.\n",
        "ab_test_groups = ab_test_groups.loc[ab_test_groups.ab_test_id == 127]"
      ],
      "execution_count": null,
      "outputs": []
    },
    {
      "cell_type": "code",
      "metadata": {
        "colab": {
          "base_uri": "https://localhost:8080/",
          "height": 204
        },
        "id": "S_4pwaQ2HFn7",
        "outputId": "67610d39-ee15-438a-c21f-55249354e979"
      },
      "source": [
        "#Загрузка данных о платежах\n",
        "payments = pd.read_csv('payments.csv')\n",
        "payments.head()"
      ],
      "execution_count": null,
      "outputs": [
        {
          "output_type": "execute_result",
          "data": {
            "text/html": [
              "<div>\n",
              "<style scoped>\n",
              "    .dataframe tbody tr th:only-of-type {\n",
              "        vertical-align: middle;\n",
              "    }\n",
              "\n",
              "    .dataframe tbody tr th {\n",
              "        vertical-align: top;\n",
              "    }\n",
              "\n",
              "    .dataframe thead th {\n",
              "        text-align: right;\n",
              "    }\n",
              "</style>\n",
              "<table border=\"1\" class=\"dataframe\">\n",
              "  <thead>\n",
              "    <tr style=\"text-align: right;\">\n",
              "      <th></th>\n",
              "      <th>payment_id</th>\n",
              "      <th>user_id</th>\n",
              "      <th>price</th>\n",
              "      <th>created_at</th>\n",
              "      <th>tariff</th>\n",
              "    </tr>\n",
              "  </thead>\n",
              "  <tbody>\n",
              "    <tr>\n",
              "      <th>0</th>\n",
              "      <td>1</td>\n",
              "      <td>77831</td>\n",
              "      <td>200.0</td>\n",
              "      <td>2019-08-05 00:00:54</td>\n",
              "      <td>month</td>\n",
              "    </tr>\n",
              "    <tr>\n",
              "      <th>1</th>\n",
              "      <td>2</td>\n",
              "      <td>84576</td>\n",
              "      <td>200.0</td>\n",
              "      <td>2019-08-05 00:01:05</td>\n",
              "      <td>month</td>\n",
              "    </tr>\n",
              "    <tr>\n",
              "      <th>2</th>\n",
              "      <td>3</td>\n",
              "      <td>40981</td>\n",
              "      <td>140.0</td>\n",
              "      <td>2019-08-05 00:03:47</td>\n",
              "      <td>month_30off</td>\n",
              "    </tr>\n",
              "    <tr>\n",
              "      <th>3</th>\n",
              "      <td>4</td>\n",
              "      <td>130565</td>\n",
              "      <td>140.0</td>\n",
              "      <td>2019-08-05 00:09:33</td>\n",
              "      <td>month_30off</td>\n",
              "    </tr>\n",
              "    <tr>\n",
              "      <th>4</th>\n",
              "      <td>5</td>\n",
              "      <td>34758</td>\n",
              "      <td>700.0</td>\n",
              "      <td>2019-08-05 00:12:16</td>\n",
              "      <td>year_30off</td>\n",
              "    </tr>\n",
              "  </tbody>\n",
              "</table>\n",
              "</div>"
            ],
            "text/plain": [
              "   payment_id  user_id  price           created_at       tariff\n",
              "0           1    77831  200.0  2019-08-05 00:00:54        month\n",
              "1           2    84576  200.0  2019-08-05 00:01:05        month\n",
              "2           3    40981  140.0  2019-08-05 00:03:47  month_30off\n",
              "3           4   130565  140.0  2019-08-05 00:09:33  month_30off\n",
              "4           5    34758  700.0  2019-08-05 00:12:16   year_30off"
            ]
          },
          "metadata": {},
          "execution_count": 38
        }
      ]
    },
    {
      "cell_type": "code",
      "metadata": {
        "colab": {
          "base_uri": "https://localhost:8080/",
          "height": 204
        },
        "id": "-gTurtTnHFn8",
        "outputId": "2f6c2c98-93ac-404c-f1b0-64172b184694"
      },
      "source": [
        "#Выберем необходимые данные: проведём фильтрацию по дате через приведение столбца created_at к строковому типу данных.\n",
        "payments = payments.loc[(payments.created_at.astype(str) >= '2019-08-05')&\n",
        "            (payments.created_at.astype(str) < '2019-08-12'), ['user_id', 'price']]\n",
        "payments.head()"
      ],
      "execution_count": null,
      "outputs": [
        {
          "output_type": "execute_result",
          "data": {
            "text/html": [
              "<div>\n",
              "<style scoped>\n",
              "    .dataframe tbody tr th:only-of-type {\n",
              "        vertical-align: middle;\n",
              "    }\n",
              "\n",
              "    .dataframe tbody tr th {\n",
              "        vertical-align: top;\n",
              "    }\n",
              "\n",
              "    .dataframe thead th {\n",
              "        text-align: right;\n",
              "    }\n",
              "</style>\n",
              "<table border=\"1\" class=\"dataframe\">\n",
              "  <thead>\n",
              "    <tr style=\"text-align: right;\">\n",
              "      <th></th>\n",
              "      <th>user_id</th>\n",
              "      <th>price</th>\n",
              "    </tr>\n",
              "  </thead>\n",
              "  <tbody>\n",
              "    <tr>\n",
              "      <th>0</th>\n",
              "      <td>77831</td>\n",
              "      <td>200.0</td>\n",
              "    </tr>\n",
              "    <tr>\n",
              "      <th>1</th>\n",
              "      <td>84576</td>\n",
              "      <td>200.0</td>\n",
              "    </tr>\n",
              "    <tr>\n",
              "      <th>2</th>\n",
              "      <td>40981</td>\n",
              "      <td>140.0</td>\n",
              "    </tr>\n",
              "    <tr>\n",
              "      <th>3</th>\n",
              "      <td>130565</td>\n",
              "      <td>140.0</td>\n",
              "    </tr>\n",
              "    <tr>\n",
              "      <th>4</th>\n",
              "      <td>34758</td>\n",
              "      <td>700.0</td>\n",
              "    </tr>\n",
              "  </tbody>\n",
              "</table>\n",
              "</div>"
            ],
            "text/plain": [
              "   user_id  price\n",
              "0    77831  200.0\n",
              "1    84576  200.0\n",
              "2    40981  140.0\n",
              "3   130565  140.0\n",
              "4    34758  700.0"
            ]
          },
          "metadata": {},
          "execution_count": 39
        }
      ]
    },
    {
      "cell_type": "code",
      "metadata": {
        "id": "XehH5vanHFn-"
      },
      "source": [
        "#Так как у пользователя может быть несколько покупок, нам нужно провести агрегацию по пользователю.\n",
        "payments = payments.groupby('user_id', as_index = False).agg({'price':'sum'})"
      ],
      "execution_count": null,
      "outputs": []
    },
    {
      "cell_type": "markdown",
      "metadata": {
        "id": "cljEIH4DJNBS"
      },
      "source": [
        "Как мы видим, данные устроены довольно просто: нам достаточно соединить эти две таблицы, чтобы осталась сводная информация обо всех участниках теста и покупках каждого из них за время теста."
      ]
    },
    {
      "cell_type": "code",
      "metadata": {
        "colab": {
          "base_uri": "https://localhost:8080/",
          "height": 204
        },
        "id": "hWV9R5VVHFn_",
        "outputId": "599b4619-4a4c-4d52-d13d-7dbcdcdbfd60"
      },
      "source": [
        "ab_data = ab_test_groups.merge(payments, on = 'user_id', how = 'left')\n",
        "ab_data.head()"
      ],
      "execution_count": null,
      "outputs": [
        {
          "output_type": "execute_result",
          "data": {
            "text/html": [
              "<div>\n",
              "<style scoped>\n",
              "    .dataframe tbody tr th:only-of-type {\n",
              "        vertical-align: middle;\n",
              "    }\n",
              "\n",
              "    .dataframe tbody tr th {\n",
              "        vertical-align: top;\n",
              "    }\n",
              "\n",
              "    .dataframe thead th {\n",
              "        text-align: right;\n",
              "    }\n",
              "</style>\n",
              "<table border=\"1\" class=\"dataframe\">\n",
              "  <thead>\n",
              "    <tr style=\"text-align: right;\">\n",
              "      <th></th>\n",
              "      <th>user_id</th>\n",
              "      <th>grp</th>\n",
              "      <th>ab_test_id</th>\n",
              "      <th>price</th>\n",
              "    </tr>\n",
              "  </thead>\n",
              "  <tbody>\n",
              "    <tr>\n",
              "      <th>0</th>\n",
              "      <td>1</td>\n",
              "      <td>B</td>\n",
              "      <td>127</td>\n",
              "      <td>140.0</td>\n",
              "    </tr>\n",
              "    <tr>\n",
              "      <th>1</th>\n",
              "      <td>2</td>\n",
              "      <td>B</td>\n",
              "      <td>127</td>\n",
              "      <td>NaN</td>\n",
              "    </tr>\n",
              "    <tr>\n",
              "      <th>2</th>\n",
              "      <td>3</td>\n",
              "      <td>B</td>\n",
              "      <td>127</td>\n",
              "      <td>NaN</td>\n",
              "    </tr>\n",
              "    <tr>\n",
              "      <th>3</th>\n",
              "      <td>4</td>\n",
              "      <td>B</td>\n",
              "      <td>127</td>\n",
              "      <td>NaN</td>\n",
              "    </tr>\n",
              "    <tr>\n",
              "      <th>4</th>\n",
              "      <td>5</td>\n",
              "      <td>A</td>\n",
              "      <td>127</td>\n",
              "      <td>NaN</td>\n",
              "    </tr>\n",
              "  </tbody>\n",
              "</table>\n",
              "</div>"
            ],
            "text/plain": [
              "   user_id grp  ab_test_id  price\n",
              "0        1   B         127  140.0\n",
              "1        2   B         127    NaN\n",
              "2        3   B         127    NaN\n",
              "3        4   B         127    NaN\n",
              "4        5   A         127    NaN"
            ]
          },
          "metadata": {},
          "execution_count": 41
        }
      ]
    },
    {
      "cell_type": "markdown",
      "metadata": {
        "id": "u5RmA2IcJRX7"
      },
      "source": [
        "Давайте посмотрим, в каких пропорциях разбиты пользователи на группы и какое количество пользователей в каждой группе что-то купило:"
      ]
    },
    {
      "cell_type": "code",
      "metadata": {
        "colab": {
          "base_uri": "https://localhost:8080/",
          "height": 142
        },
        "id": "vHdMkcrDHFoB",
        "outputId": "a866ba01-80b5-48c4-fabe-bd1c58654231"
      },
      "source": [
        "ab_summary = ab_data.groupby('grp').agg({'user_id':'count', 'price':'count'}) #Агрегация данных\n",
        "ab_summary.rename(columns={'user_id':'users_count', 'price':'buyers_count'}, inplace = True) #Переименовывание столбцов\n",
        "ab_summary"
      ],
      "execution_count": null,
      "outputs": [
        {
          "output_type": "execute_result",
          "data": {
            "text/html": [
              "<div>\n",
              "<style scoped>\n",
              "    .dataframe tbody tr th:only-of-type {\n",
              "        vertical-align: middle;\n",
              "    }\n",
              "\n",
              "    .dataframe tbody tr th {\n",
              "        vertical-align: top;\n",
              "    }\n",
              "\n",
              "    .dataframe thead th {\n",
              "        text-align: right;\n",
              "    }\n",
              "</style>\n",
              "<table border=\"1\" class=\"dataframe\">\n",
              "  <thead>\n",
              "    <tr style=\"text-align: right;\">\n",
              "      <th></th>\n",
              "      <th>users_count</th>\n",
              "      <th>buyers_count</th>\n",
              "    </tr>\n",
              "    <tr>\n",
              "      <th>grp</th>\n",
              "      <th></th>\n",
              "      <th></th>\n",
              "    </tr>\n",
              "  </thead>\n",
              "  <tbody>\n",
              "    <tr>\n",
              "      <th>A</th>\n",
              "      <td>76605</td>\n",
              "      <td>4279</td>\n",
              "    </tr>\n",
              "    <tr>\n",
              "      <th>B</th>\n",
              "      <td>76627</td>\n",
              "      <td>9427</td>\n",
              "    </tr>\n",
              "  </tbody>\n",
              "</table>\n",
              "</div>"
            ],
            "text/plain": [
              "     users_count  buyers_count\n",
              "grp                           \n",
              "A          76605          4279\n",
              "B          76627          9427"
            ]
          },
          "metadata": {},
          "execution_count": 42
        }
      ]
    },
    {
      "cell_type": "markdown",
      "metadata": {
        "id": "og2c7vWBJWpD"
      },
      "source": [
        "Посчитаем, какая доля пользователей находится в группе А."
      ]
    },
    {
      "cell_type": "code",
      "metadata": {
        "colab": {
          "base_uri": "https://localhost:8080/"
        },
        "id": "2BO3aIjJHFoD",
        "outputId": "4c244152-4310-4dbc-e2bd-57a8a7ff1adf"
      },
      "source": [
        "ab_summary.loc[ab_summary.index == 'A', 'users_count'].sum()/ab_summary.users_count.sum()"
      ],
      "execution_count": null,
      "outputs": [
        {
          "output_type": "execute_result",
          "data": {
            "text/plain": [
              "0.4999282134280046"
            ]
          },
          "metadata": {},
          "execution_count": 43
        }
      ]
    },
    {
      "cell_type": "markdown",
      "metadata": {
        "id": "gt1R9dQbJbhK"
      },
      "source": [
        "Как мы видим, в группе А — 49,9 % пользователей, из чего можем сделать вывод, что использована разбивка 50/50 (0,1%, скорее всего, случайное отклонение). При этом количество покупателей существенно различается."
      ]
    },
    {
      "cell_type": "markdown",
      "metadata": {
        "id": "rI_DC5Y7Ji_9"
      },
      "source": [
        "Теперь мы можем посчитать конверсию пользователя в покупателя."
      ]
    },
    {
      "cell_type": "code",
      "metadata": {
        "colab": {
          "base_uri": "https://localhost:8080/",
          "height": 142
        },
        "id": "w_8rec9jHFoE",
        "outputId": "b849df71-8c4b-4a7d-c573-aff15c4a9608"
      },
      "source": [
        "ab_summary['conversion'] = ab_summary.buyers_count/ab_summary.users_count\n",
        "ab_summary"
      ],
      "execution_count": null,
      "outputs": [
        {
          "output_type": "execute_result",
          "data": {
            "text/html": [
              "<div>\n",
              "<style scoped>\n",
              "    .dataframe tbody tr th:only-of-type {\n",
              "        vertical-align: middle;\n",
              "    }\n",
              "\n",
              "    .dataframe tbody tr th {\n",
              "        vertical-align: top;\n",
              "    }\n",
              "\n",
              "    .dataframe thead th {\n",
              "        text-align: right;\n",
              "    }\n",
              "</style>\n",
              "<table border=\"1\" class=\"dataframe\">\n",
              "  <thead>\n",
              "    <tr style=\"text-align: right;\">\n",
              "      <th></th>\n",
              "      <th>users_count</th>\n",
              "      <th>buyers_count</th>\n",
              "      <th>conversion</th>\n",
              "    </tr>\n",
              "    <tr>\n",
              "      <th>grp</th>\n",
              "      <th></th>\n",
              "      <th></th>\n",
              "      <th></th>\n",
              "    </tr>\n",
              "  </thead>\n",
              "  <tbody>\n",
              "    <tr>\n",
              "      <th>A</th>\n",
              "      <td>76605</td>\n",
              "      <td>4279</td>\n",
              "      <td>0.055858</td>\n",
              "    </tr>\n",
              "    <tr>\n",
              "      <th>B</th>\n",
              "      <td>76627</td>\n",
              "      <td>9427</td>\n",
              "      <td>0.123025</td>\n",
              "    </tr>\n",
              "  </tbody>\n",
              "</table>\n",
              "</div>"
            ],
            "text/plain": [
              "     users_count  buyers_count  conversion\n",
              "grp                                       \n",
              "A          76605          4279    0.055858\n",
              "B          76627          9427    0.123025"
            ]
          },
          "metadata": {},
          "execution_count": 44
        }
      ]
    },
    {
      "cell_type": "markdown",
      "metadata": {
        "id": "KKj1czx8Jm6h"
      },
      "source": [
        "Конверсия действительно серьёзно различается: в первой группе она составляет 5,5 %, а во второй — целых 12,3 %!\n",
        "Давайте также посчитаем средний чек покупки в каждой группе."
      ]
    },
    {
      "cell_type": "code",
      "metadata": {
        "colab": {
          "base_uri": "https://localhost:8080/",
          "height": 142
        },
        "id": "uV2kbf8BHFoF",
        "outputId": "55fbb5f1-3400-435f-d4b0-eaa51753c057"
      },
      "source": [
        "ab_summary = ab_summary.merge(ab_data.groupby('grp').agg({'price':'mean'}).rename(columns = {'price':'avg_bill'}), \n",
        "                 left_index = True, right_index = True) # Сделали агрегацию и прикрепили её к ab_summary\n",
        "ab_summary"
      ],
      "execution_count": null,
      "outputs": [
        {
          "output_type": "execute_result",
          "data": {
            "text/html": [
              "<div>\n",
              "<style scoped>\n",
              "    .dataframe tbody tr th:only-of-type {\n",
              "        vertical-align: middle;\n",
              "    }\n",
              "\n",
              "    .dataframe tbody tr th {\n",
              "        vertical-align: top;\n",
              "    }\n",
              "\n",
              "    .dataframe thead th {\n",
              "        text-align: right;\n",
              "    }\n",
              "</style>\n",
              "<table border=\"1\" class=\"dataframe\">\n",
              "  <thead>\n",
              "    <tr style=\"text-align: right;\">\n",
              "      <th></th>\n",
              "      <th>users_count</th>\n",
              "      <th>buyers_count</th>\n",
              "      <th>conversion</th>\n",
              "      <th>avg_bill</th>\n",
              "    </tr>\n",
              "    <tr>\n",
              "      <th>grp</th>\n",
              "      <th></th>\n",
              "      <th></th>\n",
              "      <th></th>\n",
              "      <th></th>\n",
              "    </tr>\n",
              "  </thead>\n",
              "  <tbody>\n",
              "    <tr>\n",
              "      <th>A</th>\n",
              "      <td>76605</td>\n",
              "      <td>4279</td>\n",
              "      <td>0.055858</td>\n",
              "      <td>396.120589</td>\n",
              "    </tr>\n",
              "    <tr>\n",
              "      <th>B</th>\n",
              "      <td>76627</td>\n",
              "      <td>9427</td>\n",
              "      <td>0.123025</td>\n",
              "      <td>348.804498</td>\n",
              "    </tr>\n",
              "  </tbody>\n",
              "</table>\n",
              "</div>"
            ],
            "text/plain": [
              "     users_count  buyers_count  conversion    avg_bill\n",
              "grp                                                   \n",
              "A          76605          4279    0.055858  396.120589\n",
              "B          76627          9427    0.123025  348.804498"
            ]
          },
          "metadata": {},
          "execution_count": 45
        }
      ]
    },
    {
      "cell_type": "markdown",
      "metadata": {
        "id": "CmgYhVYrKBVJ"
      },
      "source": [
        "Несмотря на то что скидка в группе Б составляет 30%, средний чек в ней упал.\n",
        "\n",
        "Видимо, из-за акции также стали покупать больше годовых подписок.\n",
        "\n",
        "Осталось подсчитать ARPU пользователей (среднюю выручку на пользователя в группе), а также дополнительную выручку, которую принесла группа Б."
      ]
    },
    {
      "cell_type": "code",
      "metadata": {
        "colab": {
          "base_uri": "https://localhost:8080/",
          "height": 142
        },
        "id": "saIzIsWxHFoG",
        "outputId": "534e7931-a912-4d0a-aaac-aeb007267fd9"
      },
      "source": [
        "ab_summary = ab_summary.merge(ab_data.groupby('grp').agg({'price':'sum'}).rename(columns = {'price':'revenue'}), \n",
        "                 left_index = True, right_index = True) # Сделали агрегацию и прикрепили её к ab_summary\n",
        "ab_summary['ARPU'] = ab_summary.revenue/ab_summary.users_count\n",
        "ab_summary['Доп. выручка'] = ab_summary.users_count*(ab_summary.ARPU - ab_summary.loc['A', 'ARPU'])\n",
        "ab_summary"
      ],
      "execution_count": null,
      "outputs": [
        {
          "output_type": "execute_result",
          "data": {
            "text/html": [
              "<div>\n",
              "<style scoped>\n",
              "    .dataframe tbody tr th:only-of-type {\n",
              "        vertical-align: middle;\n",
              "    }\n",
              "\n",
              "    .dataframe tbody tr th {\n",
              "        vertical-align: top;\n",
              "    }\n",
              "\n",
              "    .dataframe thead th {\n",
              "        text-align: right;\n",
              "    }\n",
              "</style>\n",
              "<table border=\"1\" class=\"dataframe\">\n",
              "  <thead>\n",
              "    <tr style=\"text-align: right;\">\n",
              "      <th></th>\n",
              "      <th>users_count</th>\n",
              "      <th>buyers_count</th>\n",
              "      <th>conversion</th>\n",
              "      <th>avg_bill</th>\n",
              "      <th>revenue</th>\n",
              "      <th>ARPU</th>\n",
              "      <th>Доп. выручка</th>\n",
              "    </tr>\n",
              "    <tr>\n",
              "      <th>grp</th>\n",
              "      <th></th>\n",
              "      <th></th>\n",
              "      <th></th>\n",
              "      <th></th>\n",
              "      <th></th>\n",
              "      <th></th>\n",
              "      <th></th>\n",
              "    </tr>\n",
              "  </thead>\n",
              "  <tbody>\n",
              "    <tr>\n",
              "      <th>A</th>\n",
              "      <td>76605</td>\n",
              "      <td>4279</td>\n",
              "      <td>0.055858</td>\n",
              "      <td>396.120589</td>\n",
              "      <td>1695000.0</td>\n",
              "      <td>22.126493</td>\n",
              "      <td>0.000000e+00</td>\n",
              "    </tr>\n",
              "    <tr>\n",
              "      <th>B</th>\n",
              "      <td>76627</td>\n",
              "      <td>9427</td>\n",
              "      <td>0.123025</td>\n",
              "      <td>348.804498</td>\n",
              "      <td>3288180.0</td>\n",
              "      <td>42.911506</td>\n",
              "      <td>1.592693e+06</td>\n",
              "    </tr>\n",
              "  </tbody>\n",
              "</table>\n",
              "</div>"
            ],
            "text/plain": [
              "     users_count  buyers_count  conversion  ...    revenue       ARPU  Доп. выручка\n",
              "grp                                         ...                                    \n",
              "A          76605          4279    0.055858  ...  1695000.0  22.126493  0.000000e+00\n",
              "B          76627          9427    0.123025  ...  3288180.0  42.911506  1.592693e+06\n",
              "\n",
              "[2 rows x 7 columns]"
            ]
          },
          "metadata": {},
          "execution_count": 46
        }
      ]
    },
    {
      "cell_type": "markdown",
      "metadata": {
        "id": "r97bmolwKRWO"
      },
      "source": [
        "ARPU выросло почти вдвое — отличный результат! \n",
        "# Однако в аналитике при разборе А/Б-теста важно не только проследить изменения метрик, но и посмотреть, являются ли эти изменения статистически значимыми. Иными словами, можно ли им доверять.\n",
        "Итак, рассчитаем значимость изменения конверсии."
      ]
    },
    {
      "cell_type": "code",
      "metadata": {
        "colab": {
          "base_uri": "https://localhost:8080/"
        },
        "id": "tF_yDgc-HFoH",
        "outputId": "74c47a49-b0d4-4f70-837e-71bc8427dcce"
      },
      "source": [
        "ztest(ab_data.loc[ab_data.grp == 'A', 'price'].apply(lambda x: 1 if pd.notnull(x) else 0),# Конверсии пользователей группы А\n",
        "     ab_data.loc[ab_data.grp == 'B', 'price'].apply(lambda x: 1 if pd.notnull(x) else 0) # Конверсии пользователей группы B\n",
        "     ) "
      ],
      "execution_count": null,
      "outputs": [
        {
          "output_type": "execute_result",
          "data": {
            "text/plain": [
              "(-46.38627328408593, 0.0)"
            ]
          },
          "metadata": {},
          "execution_count": 47
        }
      ]
    },
    {
      "cell_type": "markdown",
      "metadata": {
        "id": "OnpZ9XnxKoDn"
      },
      "source": [
        "P-value = 0, значит конверсия изменилась значимо"
      ]
    },
    {
      "cell_type": "code",
      "metadata": {
        "colab": {
          "base_uri": "https://localhost:8080/",
          "height": 641
        },
        "id": "B-pZZWJiHFoI",
        "outputId": "32acb05d-1b8d-4e40-aa1f-353b0b711809"
      },
      "source": [
        "ax = plt.subplot()\n",
        "ab_data.loc[ab_data.grp == 'A', 'price'].dropna().hist()\n",
        "ax.set_xlabel('Чек, руб')\n",
        "ax.set_ylabel('Количество пользователей')\n",
        "ax.set_title('Гистограмма распределения чеков на платящих пользователей')\n",
        "plt.show()\n",
        "print('Shapiro-Wilk p-value is', stats.shapiro(ab_data.loc[ab_data.grp == 'A', 'price'].dropna())[1])\n",
        "\n",
        "ax = plt.subplot()\n",
        "ab_data.loc[ab_data.grp == 'A', 'price'].fillna(0).hist()\n",
        "ax.set_xlabel('Выручка, руб')\n",
        "ax.set_ylabel('Количество пользователей')\n",
        "ax.set_title('Гистограмма распределения выручки на пользователей')\n",
        "plt.show()\n",
        "print('Shapiro-Wilk p-value is', stats.shapiro(ab_data.loc[ab_data.grp == 'A', 'price'].fillna(0))[1])"
      ],
      "execution_count": null,
      "outputs": [
        {
          "output_type": "display_data",
          "data": {
            "image/png": "[encoded data removed]",
            "text/plain": [
              "<Figure size 432x288 with 1 Axes>"
            ]
          },
          "metadata": {
            "needs_background": "light"
          }
        },
        {
          "output_type": "stream",
          "name": "stdout",
          "text": [
            "Shapiro-Wilk p-value is 0.0\n"
          ]
        },
        {
          "output_type": "display_data",
          "data": {
            "image/png": "[encoded data removed]",
            "text/plain": [
              "<Figure size 432x288 with 1 Axes>"
            ]
          },
          "metadata": {
            "needs_background": "light"
          }
        },
        {
          "output_type": "stream",
          "name": "stdout",
          "text": [
            "Shapiro-Wilk p-value is 0.0\n"
          ]
        },
        {
          "output_type": "stream",
          "name": "stderr",
          "text": [
            "/usr/local/lib/python3.7/dist-packages/scipy/stats/morestats.py:1676: UserWarning: p-value may not be accurate for N > 5000.\n",
            "  warnings.warn(\"p-value may not be accurate for N > 5000.\")\n"
          ]
        }
      ]
    },
    {
      "cell_type": "markdown",
      "metadata": {
        "id": "mxuLSZ1DK52t"
      },
      "source": [
        "И визуальный анализ, и тест Шапиро-Вилка на нормальность говорят нам, что распределение не является нормальным."
      ]
    },
    {
      "cell_type": "code",
      "metadata": {
        "colab": {
          "base_uri": "https://localhost:8080/"
        },
        "id": "3Qo1rrFhHFoK",
        "outputId": "feefe70a-e712-4de4-e434-5616db1e3fa4"
      },
      "source": [
        "print(stats.mannwhitneyu(ab_data.loc[ab_data.grp == 'A', 'price'].dropna(), ab_data.loc[ab_data.grp == 'B', 'price'].dropna()),\n",
        "stats.ttest_ind(ab_data.loc[ab_data.grp == 'A', 'price'].dropna(), ab_data.loc[ab_data.grp == 'B', 'price'].dropna())\n",
        "      , sep = '\\n')"
      ],
      "execution_count": null,
      "outputs": [
        {
          "output_type": "stream",
          "name": "stdout",
          "text": [
            "MannwhitneyuResult(statistic=11353450.0, pvalue=0.0)\n",
            "Ttest_indResult(statistic=8.681488291725874, pvalue=4.342920451712972e-18)\n"
          ]
        }
      ]
    },
    {
      "cell_type": "markdown",
      "metadata": {
        "id": "oIF4V1y3LGzG"
      },
      "source": [
        "Как мы видим, средние чеки также значимо различаются (так как p-значение << 0.05) по каждому из тестов."
      ]
    },
    {
      "cell_type": "code",
      "metadata": {
        "id": "zZBETmPEHFoM"
      },
      "source": [
        "# Важные функции для получения доверительных интервалов\n",
        "def get_conf_interval(data, conf_level = 0.95):  \n",
        "# Считает доверительные интервалы для средних\n",
        "        buf = (stats.t.interval(conf_level, len(data),\n",
        "                             loc=np.mean(data), scale=stats.sem(data)))\n",
        "        return (buf[1] - buf[0])/2\n",
        "    \n",
        "def get_conf_interval_z(succ, tot):  \n",
        "# Считает доверительные интервалы для бинарных величин\n",
        "    buf = proportion_confint(succ, tot)\n",
        "    return buf[1] - buf[0]"
      ],
      "execution_count": null,
      "outputs": []
    },
    {
      "cell_type": "code",
      "metadata": {
        "colab": {
          "base_uri": "https://localhost:8080/"
        },
        "id": "LcoB65yFHFoM",
        "outputId": "a7d4cbac-5a6a-4d4e-d7b6-1a63231014d1"
      },
      "source": [
        "get_conf_interval(ab_data.loc[ab_data.grp == 'A', 'price'].fillna(0)) \n",
        "# Доверительный полуинтервал для АРПУ пользователей в группе А"
      ],
      "execution_count": null,
      "outputs": [
        {
          "output_type": "execute_result",
          "data": {
            "text/plain": [
              "0.8641428736438357"
            ]
          },
          "metadata": {},
          "execution_count": 51
        }
      ]
    },
    {
      "cell_type": "code",
      "metadata": {
        "id": "mkHKOp0vHFoN"
      },
      "source": [
        "# Составляем словарь с доверительными интервалами для каждой метрики и для каждой группы\n",
        "conf_intervals = {'ARPU':{'A':get_conf_interval(ab_data.loc[ab_data.grp == 'A', 'price'].fillna(0)),\n",
        "                          'B':get_conf_interval(ab_data.loc[ab_data.grp == 'B', 'price'].fillna(0))},\n",
        "                  'conversion':{'A':get_conf_interval_z(ab_data.loc[ab_data.grp == 'A', 'price'].dropna().count(),\n",
        "                                                        ab_data.loc[ab_data.grp == 'A', 'user_id'].count()),\n",
        "                               'B':get_conf_interval_z(ab_data.loc[ab_data.grp == 'B', 'price'].dropna().count(),\n",
        "                                                        ab_data.loc[ab_data.grp == 'B', 'user_id'].count())},\n",
        "                  'avg_bill':{'A':get_conf_interval(ab_data.loc[ab_data.grp == 'A', 'price'].dropna()),\n",
        "                          'B':get_conf_interval(ab_data.loc[ab_data.grp == 'B', 'price'].dropna())}\n",
        "                 }"
      ],
      "execution_count": null,
      "outputs": []
    },
    {
      "cell_type": "markdown",
      "metadata": {
        "id": "Lzc2wxQDLXrV"
      },
      "source": [
        "## Отчёт"
      ]
    },
    {
      "cell_type": "code",
      "metadata": {
        "id": "nWpFpT3LHFoO"
      },
      "source": [
        "# Удобная функция для подстановки подписей на barplot\n",
        "def set_labels(axes):  \n",
        "# Расставляет подписи столбцов на барплоты\n",
        "    y0, y1 = axes.get_ybound()  \n",
        "# размер графика по оси Y\n",
        "    y_shift = 0.15* (y1 - y0)  \n",
        "# дополнительное место под надписи\n",
        "\n",
        "    for i, rect in enumerate(axes.patches):  \n",
        "# по всем нарисованным прямоугольникам\n",
        "        height = rect.get_height()\n",
        "        if abs(height) <= 10000:\n",
        "            label = str(round(height, 2))\n",
        "            if label[-1] == '0':\n",
        "                label = label[:-1]\n",
        "        elif abs(height) <= 1000000:\n",
        "            label = str(round(height/1000, 1))\n",
        "            if label[-1] == '0':\n",
        "                label = label[:-1] + 'k'\n",
        "            else:\n",
        "                label = label + 'k'\n",
        "        else:\n",
        "            label = str(round(height/1000000, 2))\n",
        "            if label[-1] == '0':\n",
        "                label = label[:-1] + 'm'\n",
        "            else:\n",
        "                label = label + 'm'\n",
        "        x = rect.get_x() + rect.get_width() / 2  \n",
        "# посередине прямоугольника\n",
        "        y = height + y_shift * 0.8  \n",
        "# над прямоугольником в середине доп. места\n",
        "        if height < 0:\n",
        "            y = y_shift * 0.8 \n",
        "        axes.text(x, y, label, ha='center', va='center', alpha = 0.7)\n",
        "        axes.set_ybound(y0, y1 + 1.5*y_shift)"
      ],
      "execution_count": null,
      "outputs": []
    },
    {
      "cell_type": "code",
      "metadata": {
        "id": "hG0QR6XvHFoP"
      },
      "source": [
        "plot_summary = ab_summary.T \n",
        "# Транспонированная таблица для удобства использования\n",
        "significant_changes = ['conversion', 'avg_bill'] \n",
        "# Метрики со статзначимыми различиями"
      ],
      "execution_count": null,
      "outputs": []
    },
    {
      "cell_type": "code",
      "metadata": {
        "colab": {
          "base_uri": "https://localhost:8080/",
          "height": 294
        },
        "id": "4qGKiXDhHFoP",
        "outputId": "596846f4-81e2-4cf3-dd53-879df4d6a76e"
      },
      "source": [
        "from matplotlib import gridspec\n",
        "from math import ceil\n",
        "\n",
        "ax = [] \n",
        "# Массив для складирования графиков\n",
        "n_pict_in_line = 4 \n",
        "# Количество картинок в одной линии\n",
        "\n",
        "gs = gridspec.GridSpec(ceil(len(plot_summary) / float(n_pict_in_line)), n_pict_in_line) \n",
        "# Создаём сетку для графиков\n",
        "fig = plt.figure(figsize=(n_pict_in_line*3 + 2,\n",
        "                          ceil(len(plot_summary) / n_pict_in_line) * 2))\n",
        "\n",
        "## Считаем изменение метрики в процентах\n",
        "delta_percent = {}\n",
        "for row in plot_summary.index:  \n",
        "    if 'users_count' != row and 'buyers_count' != row and 'revenue' != row and \"Доп. выручка\" != row:\n",
        "        delta_percent[row] = '(' + str(round(plot_summary.loc[row, :].max()/\\\n",
        "                                  plot_summary.loc[row, :].min()*100 - 100, 1)) + '%)'\n",
        "        \n",
        "fig.suptitle('Результаты АБ-теста со скидками от 5 августа 2019 до 11 августа 2019')\n",
        "\n",
        "## Строим графики\n",
        "for i, col in enumerate(plot_summary.index):\n",
        "    ax.append(plt.subplot(gs[i // n_pict_in_line, i % n_pict_in_line])) \n",
        "# Добавляем subplot в нужную клетку\n",
        "    plot_summary.loc[[col], :].plot(kind='bar', rot=0, ax=ax[i], alpha=0.8, \n",
        "# Строим график в нужной клетке\n",
        "                                   yerr=conf_intervals[col] if col in conf_intervals else 0) \n",
        "    \n",
        "    \n",
        "# Редактируем подпись к графику, чтобы в ней хранилась информация о значимости различий \n",
        "    stars = ' * ' if col in significant_changes else '' \n",
        "    ticks = ax[-1].get_xticklabels()\n",
        "    ticks[0] = col + stars + delta_percent[col] if col in delta_percent else col + stars\n",
        "    ax[-1].set_xticklabels(ticks)\n",
        "    ax[-1].set_yticks([])\n",
        "    set_labels(axes=ax[i])"
      ],
      "execution_count": null,
      "outputs": [
        {
          "output_type": "display_data",
          "data": {
            "image/png": "[encoded data removed]",
            "text/plain": [
              "<Figure size 1008x288 with 7 Axes>"
            ]
          },
          "metadata": {
            "needs_background": "light"
          }
        }
      ]
    },
    {
      "cell_type": "markdown",
      "metadata": {
        "id": "xJLEU7GRHFoQ"
      },
      "source": [
        "#**Выводы:**\n",
        "Вот мы и получили отчёт по А/Б-тесту с интересующими нас метриками. Этот отчёт позволяет сделать выводы относительно успешности теста. Перечислим наиболее значимые из них.\n",
        "Группы разбиты в соотношении 50/50\n",
        "\n",
        "* ARPU значимо вырос на 93,9 %\n",
        "* Конверсия значимо увеличилась на 120 %\n",
        "* Средний чек значимо упал на 13,6 %\n",
        "* Дополнительная выручка в группе В составила 1,59 млн.руб.\n",
        "\n",
        "Всего за 7 дней введение скидок поспособствовало мгновенному увеличению выручки, поэтому их можно проводить время от времени."
      ]
    }
  ]
}