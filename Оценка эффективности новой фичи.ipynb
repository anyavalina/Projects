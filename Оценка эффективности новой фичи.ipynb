{
  "nbformat": 4,
  "nbformat_minor": 0,
  "metadata": {
    "kernelspec": {
      "display_name": "Python 3",
      "language": "python",
      "name": "python3"
    },
    "language_info": {
      "codemirror_mode": {
        "name": "ipython",
        "version": 3
      },
      "file_extension": ".py",
      "mimetype": "text/x-python",
      "name": "python",
      "nbconvert_exporter": "python",
      "pygments_lexer": "ipython3",
      "version": "3.6.5"
    },
    "colab": {
      "name": "OD2_10-Project.ipynb",
      "provenance": []
    }
  },
  "cells": [
    {
      "cell_type": "markdown",
      "metadata": {
        "id": "KWbFZG0VRyg2"
      },
      "source": [
        "# Задачи \n",
        "## 1. Посчитать показатели Retention Rate седьмого дня за два периода: до и после внедрения фичи.\n",
        "## 2. Посчитать показатели ARPPU за два периода: до и после внедрения фичи."
      ]
    },
    {
      "cell_type": "markdown",
      "metadata": {
        "id": "0eAgeuKGRyg_"
      },
      "source": [
        "Установка необходимых библиотек"
      ]
    },
    {
      "cell_type": "code",
      "metadata": {
        "id": "9w6umOlTRyhA"
      },
      "source": [
        "#! pip install psycopg2 "
      ],
      "execution_count": null,
      "outputs": []
    },
    {
      "cell_type": "code",
      "metadata": {
        "id": "1koVTbO1RyhD"
      },
      "source": [
        "import pandas as pd\n",
        "import numpy as np\n",
        "import psycopg2\n",
        "import psycopg2.extras "
      ],
      "execution_count": null,
      "outputs": []
    },
    {
      "cell_type": "markdown",
      "metadata": {
        "id": "3lrcYIPhRyhE"
      },
      "source": [
        "Подсчитаем количество зарегистрировавшихся пользователей registered_users_count_may за май 2019 года в разрезе registration_date — дней регистрации."
      ]
    },
    {
      "cell_type": "code",
      "metadata": {
        "id": "OQ0Sy5L3RyhF"
      },
      "source": [
        "def getRegisteredUsersCount():\n",
        "    query = '''SELECT r.registration_date, count(distinct(r.user_id)) as registered_users_count\n",
        "    FROM case9.registration r\n",
        "    WHERE r.registration_date >= '2019-05-01' and r.registration_date < '2019-06-01'\n",
        "    GROUP BY 1\n",
        "    '''.format()\n",
        "    conn = psycopg2.connect(\"dbname='skillfactory' user='skillfactory' host='84.201.134.129' password='cCkxxLVrDE8EbvjueeMedPKt' port=5432\")\n",
        "    dict_cur = conn.cursor(cursor_factory=psycopg2.extras.DictCursor)\n",
        "    dict_cur.execute(query)\n",
        "    rows = dict_cur.fetchall()\n",
        "    data = []\n",
        "    for row in rows:\n",
        "        data.append(dict(row))\n",
        "    return data\n",
        "\n",
        "registered_users_count_may = pd.DataFrame(getRegisteredUsersCount())"
      ],
      "execution_count": null,
      "outputs": []
    },
    {
      "cell_type": "markdown",
      "metadata": {
        "id": "Wy4QsesHRyhH"
      },
      "source": [
        "Подсчитаем количество зарегистрировавшихся пользователей registered_users_count_june за июнь 2019 года в разрезе registration_date — дней регистрации."
      ]
    },
    {
      "cell_type": "code",
      "metadata": {
        "id": "BdoZGOimRyhJ"
      },
      "source": [
        "def getRegisteredUsersCount():\n",
        "    query = '''SELECT r.registration_date, count(distinct(r.user_id)) as registered_users_count\n",
        "    FROM case9.registration r\n",
        "    WHERE r.registration_date >= '2019-06-01' and r.registration_date < '2019-07-01'\n",
        "    GROUP BY 1\n",
        "    '''.format()\n",
        "    conn = psycopg2.connect(\"dbname='skillfactory' user='skillfactory' host='84.201.134.129' password='cCkxxLVrDE8EbvjueeMedPKt' port=5432\")\n",
        "    dict_cur = conn.cursor(cursor_factory=psycopg2.extras.DictCursor)\n",
        "    dict_cur.execute(query)\n",
        "    rows = dict_cur.fetchall()\n",
        "    data = []\n",
        "    for row in rows:\n",
        "        data.append(dict(row))\n",
        "    return data\n",
        "\n",
        "registered_users_count_june = pd.DataFrame(getRegisteredUsersCount())"
      ],
      "execution_count": null,
      "outputs": []
    },
    {
      "cell_type": "code",
      "metadata": {
        "id": "AzD3PpZXRyhL",
        "outputId": "51225739-dc10-40d1-b505-3b663f6df611"
      },
      "source": [
        "registered_users_count_may.info()"
      ],
      "execution_count": null,
      "outputs": [
        {
          "name": "stdout",
          "output_type": "stream",
          "text": [
            "<class 'pandas.core.frame.DataFrame'>\n",
            "RangeIndex: 31 entries, 0 to 30\n",
            "Data columns (total 2 columns):\n",
            "registered_users_count    31 non-null int64\n",
            "registration_date         31 non-null object\n",
            "dtypes: int64(1), object(1)\n",
            "memory usage: 576.0+ bytes\n"
          ]
        }
      ]
    },
    {
      "cell_type": "code",
      "metadata": {
        "id": "iQXBHs9ARyhN"
      },
      "source": [
        "#Переводим столбец дат в соответствующий тип\n",
        "registered_users_count_may['registration_date'] = pd.to_datetime(registered_users_count_may['registration_date'])\n",
        "registered_users_count_june['registration_date'] = pd.to_datetime(registered_users_count_june['registration_date'])"
      ],
      "execution_count": null,
      "outputs": []
    },
    {
      "cell_type": "markdown",
      "metadata": {
        "id": "ENOVNQUHRyhO"
      },
      "source": [
        "Подсчитаем по дням количество активных пользователей active_users_count_may в мае с указанием даты регистрации registration_date."
      ]
    },
    {
      "cell_type": "code",
      "metadata": {
        "id": "bMzng4nnRyhP"
      },
      "source": [
        "def getActiveUsersCountWithCohorts():\n",
        "    query = '''SELECT ac.activity_date, r.registration_date, count(distinct(ac.user_id)) as active_users_count\n",
        "    FROM case9.user_activity ac\n",
        "    LEFT JOIN case9.registration r ON r.user_id = ac.user_id\n",
        "    WHERE r.registration_date >= '2019-05-01' and r.registration_date < '2019-06-01'\n",
        "    GROUP BY 1,2\n",
        "    '''.format()\n",
        "    conn = psycopg2.connect(\"dbname='skillfactory' user='skillfactory' host='84.201.134.129' password='cCkxxLVrDE8EbvjueeMedPKt' port=5432\")\n",
        "    dict_cur = conn.cursor(cursor_factory=psycopg2.extras.DictCursor)\n",
        "    dict_cur.execute(query)\n",
        "    rows = dict_cur.fetchall()\n",
        "    data = []\n",
        "    for row in rows:\n",
        "        data.append(dict(row))\n",
        "    return data\n",
        "\n",
        "active_users_count_with_cohorts_may = pd.DataFrame(getActiveUsersCountWithCohorts())"
      ],
      "execution_count": null,
      "outputs": []
    },
    {
      "cell_type": "markdown",
      "metadata": {
        "id": "-koPuY5DRyhR"
      },
      "source": [
        "Подсчитаем по дням количество активных пользователей active_users_count_june в июне с указанием даты регистрации registration_date."
      ]
    },
    {
      "cell_type": "code",
      "metadata": {
        "id": "ezaPYDxTRyhS"
      },
      "source": [
        "def getActiveUsersCountWithCohorts():\n",
        "    query = '''SELECT ac.activity_date, r.registration_date, count(distinct(ac.user_id)) as active_users_count\n",
        "    FROM case9.user_activity ac\n",
        "    LEFT JOIN case9.registration r ON r.user_id = ac.user_id\n",
        "    WHERE r.registration_date >= '2019-06-01' and r.registration_date < '2019-07-01'\n",
        "    GROUP BY 1,2\n",
        "    '''.format()\n",
        "    conn = psycopg2.connect(\"dbname='skillfactory' user='skillfactory' host='84.201.134.129' password='cCkxxLVrDE8EbvjueeMedPKt' port=5432\")\n",
        "    dict_cur = conn.cursor(cursor_factory=psycopg2.extras.DictCursor)\n",
        "    dict_cur.execute(query)\n",
        "    rows = dict_cur.fetchall()\n",
        "    data = []\n",
        "    for row in rows:\n",
        "        data.append(dict(row))\n",
        "    return data\n",
        "\n",
        "active_users_count_with_cohorts_june = pd.DataFrame(getActiveUsersCountWithCohorts())"
      ],
      "execution_count": null,
      "outputs": []
    },
    {
      "cell_type": "code",
      "metadata": {
        "id": "h7I-3QqiRyhT",
        "outputId": "40b8005a-d1d6-4ba9-927e-e822d1b15076"
      },
      "source": [
        "active_users_count_with_cohorts_june.info()"
      ],
      "execution_count": null,
      "outputs": [
        {
          "name": "stdout",
          "output_type": "stream",
          "text": [
            "<class 'pandas.core.frame.DataFrame'>\n",
            "RangeIndex: 930 entries, 0 to 929\n",
            "Data columns (total 3 columns):\n",
            "active_users_count    930 non-null int64\n",
            "activity_date         930 non-null object\n",
            "registration_date     930 non-null object\n",
            "dtypes: int64(1), object(2)\n",
            "memory usage: 21.9+ KB\n"
          ]
        }
      ]
    },
    {
      "cell_type": "code",
      "metadata": {
        "id": "B6vGFmzZRyhU"
      },
      "source": [
        "#Переводим столбцы дат в соответствующий тип\n",
        "for col in ['activity_date','registration_date']:\n",
        "    active_users_count_with_cohorts_may[col] = pd.to_datetime(active_users_count_with_cohorts_may[col])\n",
        "    \n",
        "for col in ['activity_date','registration_date']:\n",
        "    active_users_count_with_cohorts_june[col] = pd.to_datetime(active_users_count_with_cohorts_june[col])"
      ],
      "execution_count": null,
      "outputs": []
    },
    {
      "cell_type": "code",
      "metadata": {
        "id": "MTAtuqukRyhV"
      },
      "source": [
        "#Объединяем таблицы по колонке registration_date\n",
        "retention_table_may = active_users_count_with_cohorts_may.merge(registered_users_count_may,on=['registration_date'],how='left')\n",
        "retention_table_june = active_users_count_with_cohorts_june.merge(registered_users_count_june,on=['registration_date'],how='left')"
      ],
      "execution_count": null,
      "outputs": []
    },
    {
      "cell_type": "markdown",
      "metadata": {
        "id": "o3nRe9AjRyhW"
      },
      "source": [
        "## Retention Rate"
      ]
    },
    {
      "cell_type": "code",
      "metadata": {
        "id": "I3UlJ-kCRyhW"
      },
      "source": [
        "#Какое количество дней прошло с момента регистрации до определённого дня активности\n",
        "retention_table_may['lifetime'] = retention_table_may['activity_date'] - retention_table_may['registration_date']\n",
        "#Нужно получить целое количество дней, поэтому значения в колонке с типом timedelta мы разделим на константу np.timedelta64(1,'D'):\n",
        "retention_table_may['lifetime'] = retention_table_may['lifetime']/np.timedelta64(1,'D')\n",
        "retention_table_may['lifetime'] = retention_table_may['lifetime'].astype(int) # Приведем тип к целому числу"
      ],
      "execution_count": null,
      "outputs": []
    },
    {
      "cell_type": "code",
      "metadata": {
        "id": "2NOs2ML7RyhX",
        "outputId": "e757bd60-545f-491e-e53d-199dafc615dc"
      },
      "source": [
        "#Retention Rate на седьмой день в мае\n",
        "retention_7_table_may = retention_table_may[retention_table_may['lifetime'] == 7]\n",
        "retention_7_may = retention_7_table_may.active_users_count.sum()/retention_7_table_may.registered_users_count.sum()\n",
        "retention_7_may"
      ],
      "execution_count": null,
      "outputs": [
        {
          "data": {
            "text/plain": [
              "0.12933000957960866"
            ]
          },
          "execution_count": 13,
          "metadata": {},
          "output_type": "execute_result"
        }
      ]
    },
    {
      "cell_type": "code",
      "metadata": {
        "id": "IV5-eLrmRyhY"
      },
      "source": [
        "#Какое количество дней прошло с момента регистрации до определённого дня активности\n",
        "retention_table_june['lifetime'] = retention_table_june['activity_date'] - retention_table_june['registration_date']\n",
        "#Нужно получить целое количество дней, поэтому значения в колонке с типом timedelta мы разделим на константу np.timedelta64(1,'D'):\n",
        "retention_table_june['lifetime'] = retention_table_june['lifetime']/np.timedelta64(1,'D')\n",
        "retention_table_june['lifetime'] = retention_table_june['lifetime'].astype(int) # Приведем тип к целому числу"
      ],
      "execution_count": null,
      "outputs": []
    },
    {
      "cell_type": "code",
      "metadata": {
        "id": "VJkBC3ESRyhZ",
        "outputId": "d0e79419-0c52-4af2-f39c-933a072ff34d"
      },
      "source": [
        "#Retention Rate на седьмой день в июне\n",
        "retention_7_table_june = retention_table_june[retention_table_june['lifetime'] == 7]\n",
        "retention_7_june = retention_7_table_june.active_users_count.sum()/retention_7_table_june.registered_users_count.sum()\n",
        "retention_7_june"
      ],
      "execution_count": null,
      "outputs": [
        {
          "data": {
            "text/plain": [
              "0.12560867530346634"
            ]
          },
          "execution_count": 15,
          "metadata": {},
          "output_type": "execute_result"
        }
      ]
    },
    {
      "cell_type": "markdown",
      "metadata": {
        "id": "rSQaImjQRyha"
      },
      "source": [
        "## ARPPU"
      ]
    },
    {
      "cell_type": "markdown",
      "metadata": {
        "id": "hHZ8dVFIRyhb"
      },
      "source": [
        "Напишем SQL-запрос, который позволит получить выручку по дням в разрезе когорт для пользователей, зарегистрировавшихся в мае 2019 года. "
      ]
    },
    {
      "cell_type": "code",
      "metadata": {
        "id": "ZJjcd1JcRyhb"
      },
      "source": [
        "def getRevenue():\n",
        "    query = '''SELECT re.date, r.registration_date, count(distinct(re.user_id)) as users_count_with_revenue, sum(re.revenue) as revenue\n",
        "    FROM case9.user_revenue re\n",
        "    LEFT JOIN case9.registration r ON r.user_id = re.user_id\n",
        "    WHERE r.registration_date >= '2019-05-01' and r.registration_date < '2019-06-01'\n",
        "    GROUP BY 1,2\n",
        "    '''.format()\n",
        "    conn = psycopg2.connect(\"dbname='skillfactory' user='skillfactory' host='84.201.134.129' password='cCkxxLVrDE8EbvjueeMedPKt' port=5432\")\n",
        "    dict_cur = conn.cursor(cursor_factory=psycopg2.extras.DictCursor)\n",
        "    dict_cur.execute(query)\n",
        "    rows = dict_cur.fetchall()\n",
        "    data = []\n",
        "    for row in rows:\n",
        "        data.append(dict(row))\n",
        "    return data\n",
        "\n",
        "revenue_may = pd.DataFrame(getRevenue())"
      ],
      "execution_count": null,
      "outputs": []
    },
    {
      "cell_type": "markdown",
      "metadata": {
        "id": "xTZbjde9Ryhc"
      },
      "source": [
        "Напишем SQL-запрос, который позволит получить выручку по дням в разрезе когорт для пользователей, зарегистрировавшихся в июне 2019 года. "
      ]
    },
    {
      "cell_type": "code",
      "metadata": {
        "id": "iM789W5zRyhc"
      },
      "source": [
        "def getRevenue():\n",
        "    query = '''SELECT re.date, r.registration_date, count(distinct(re.user_id)) as users_count_with_revenue, sum(re.revenue) as revenue\n",
        "    FROM case9.user_revenue re\n",
        "    LEFT JOIN case9.registration r ON r.user_id = re.user_id\n",
        "    WHERE r.registration_date >= '2019-06-01' and r.registration_date < '2019-07-01'\n",
        "    GROUP BY 1,2\n",
        "    '''.format()\n",
        "    conn = psycopg2.connect(\"dbname='skillfactory' user='skillfactory' host='84.201.134.129' password='cCkxxLVrDE8EbvjueeMedPKt' port=5432\")\n",
        "    dict_cur = conn.cursor(cursor_factory=psycopg2.extras.DictCursor)\n",
        "    dict_cur.execute(query)\n",
        "    rows = dict_cur.fetchall()\n",
        "    data = []\n",
        "    for row in rows:\n",
        "        data.append(dict(row))\n",
        "    return data\n",
        "\n",
        "revenue_june = pd.DataFrame(getRevenue())"
      ],
      "execution_count": null,
      "outputs": []
    },
    {
      "cell_type": "code",
      "metadata": {
        "id": "bafL9MjgRyhd"
      },
      "source": [
        "#Переводим столбец дат в соответствующий тип\n",
        "for col in ['date','registration_date']:\n",
        "    revenue_may[col] = pd.to_datetime(revenue_may[col])\n",
        "    \n",
        "for col in ['date','registration_date']:\n",
        "    revenue_june[col] = pd.to_datetime(revenue_june[col])"
      ],
      "execution_count": null,
      "outputs": []
    },
    {
      "cell_type": "code",
      "metadata": {
        "id": "KrNRltycRyhe"
      },
      "source": [
        "#Переименуем столбцы дат перед объединением\n",
        "revenue_may = revenue_may.rename(columns={'date':'activity_date'})\n",
        "revenue_june = revenue_june.rename(columns={'date':'activity_date'})"
      ],
      "execution_count": null,
      "outputs": []
    },
    {
      "cell_type": "code",
      "metadata": {
        "id": "UhUb7WcdRyhe"
      },
      "source": [
        "#Объединяем таблицы\n",
        "retention_table_with_revenue_may = retention_table_may.merge(revenue_may,on=['registration_date','activity_date'],how='left')\n",
        "retention_table_with_revenue_june = retention_table_june.merge(revenue_june,on=['registration_date','activity_date'],how='left')"
      ],
      "execution_count": null,
      "outputs": []
    },
    {
      "cell_type": "code",
      "metadata": {
        "id": "GvsoJzzuRyhf",
        "outputId": "31820459-1a52-4c0b-989a-bf00cd31a406"
      },
      "source": [
        "retention_table_with_revenue_may.info()"
      ],
      "execution_count": null,
      "outputs": [
        {
          "name": "stdout",
          "output_type": "stream",
          "text": [
            "<class 'pandas.core.frame.DataFrame'>\n",
            "Int64Index: 961 entries, 0 to 960\n",
            "Data columns (total 7 columns):\n",
            "active_users_count          961 non-null int64\n",
            "activity_date               961 non-null datetime64[ns]\n",
            "registration_date           961 non-null datetime64[ns]\n",
            "registered_users_count      961 non-null int64\n",
            "lifetime                    961 non-null int32\n",
            "revenue                     912 non-null float64\n",
            "users_count_with_revenue    912 non-null float64\n",
            "dtypes: datetime64[ns](2), float64(2), int32(1), int64(2)\n",
            "memory usage: 56.3 KB\n"
          ]
        }
      ]
    },
    {
      "cell_type": "markdown",
      "metadata": {
        "id": "VebZd85aRyhg"
      },
      "source": [
        "После объединения видим, что есть пропущенные значения. Это говорит о том, что не во все дни была выручка с пользователей.\n",
        "\n",
        "Произведём замену пропущенных значений на 0 с помощью функции fillna()."
      ]
    },
    {
      "cell_type": "code",
      "metadata": {
        "id": "fNkXFFFaRyhg"
      },
      "source": [
        "for col in ['revenue','users_count_with_revenue']:\n",
        "    retention_table_with_revenue_may[col] = retention_table_with_revenue_may[col].fillna(0)\n",
        "    \n",
        "for col in ['revenue','users_count_with_revenue']:\n",
        "    retention_table_with_revenue_june[col] = retention_table_with_revenue_june[col].fillna(0)"
      ],
      "execution_count": null,
      "outputs": []
    },
    {
      "cell_type": "code",
      "metadata": {
        "id": "UbR4141qRyhh"
      },
      "source": [
        "#Преобразуемы столбцы с количеством платящих пользователей в целочисленный формат\n",
        "retention_table_with_revenue_may['users_count_with_revenue'] = retention_table_with_revenue_may['users_count_with_revenue'].astype(int)\n",
        "retention_table_with_revenue_june['users_count_with_revenue'] = retention_table_with_revenue_june['users_count_with_revenue'].astype(int)"
      ],
      "execution_count": null,
      "outputs": []
    },
    {
      "cell_type": "code",
      "metadata": {
        "id": "NC4trL1GRyhh",
        "outputId": "5d53ffe1-efd0-4e3b-f8fe-3c4efad089df"
      },
      "source": [
        "#ARPPU в мае\n",
        "arppu_may = retention_table_with_revenue_may['revenue'].sum()/retention_table_with_revenue_may['users_count_with_revenue'].sum()\n",
        "arppu_may"
      ],
      "execution_count": null,
      "outputs": [
        {
          "data": {
            "text/plain": [
              "0.30612457926102504"
            ]
          },
          "execution_count": 24,
          "metadata": {},
          "output_type": "execute_result"
        }
      ]
    },
    {
      "cell_type": "code",
      "metadata": {
        "id": "tP8GKUqERyhi",
        "outputId": "bcf6219d-ce00-43b9-885a-442395fa909d"
      },
      "source": [
        "#ARPPU в июне\n",
        "arppu_june = retention_table_with_revenue_june['revenue'].sum()/retention_table_with_revenue_june['users_count_with_revenue'].sum()\n",
        "arppu_june"
      ],
      "execution_count": null,
      "outputs": [
        {
          "data": {
            "text/plain": [
              "0.39319401107750307"
            ]
          },
          "execution_count": 25,
          "metadata": {},
          "output_type": "execute_result"
        }
      ]
    },
    {
      "cell_type": "markdown",
      "metadata": {
        "id": "mpfe_tHvRyhj"
      },
      "source": [
        "# Выводы"
      ]
    },
    {
      "cell_type": "code",
      "metadata": {
        "id": "spgHqdVeRyhj",
        "outputId": "e78154e0-eb38-4761-b5ae-ea4790b60d1e"
      },
      "source": [
        "print('Retention Rate седьмого дня до внедрения фичи: {:.2%}'.format(retention_7_may))\n",
        "print('Retention Rate седьмого дня после внедрения фичи: {:.2%}'.format(retention_7_june))\n",
        "print('ARPPU до внедрения фичи: {:.1} у.е.'.format(arppu_may))\n",
        "print('ARPPU после внедрения фичи: {:.1} у.е.'.format(arppu_june))"
      ],
      "execution_count": null,
      "outputs": [
        {
          "name": "stdout",
          "output_type": "stream",
          "text": [
            "Retention Rate седьмого дня до внедрения фичи: 12.93%\n",
            "Retention Rate седьмого дня после внедрения фичи: 12.56%\n",
            "ARPPU до внедрения фичи: 0.3 у.е.\n",
            "ARPPU после внедрения фичи: 0.4 у.е.\n"
          ]
        }
      ]
    },
    {
      "cell_type": "markdown",
      "metadata": {
        "id": "Ol2L2Qd8Ryhk"
      },
      "source": [
        "Retention Rate до внедрения фичи чуть больше, чем после. Это говорит о том, что возвращаемость и удержание пользователей на 7 день стала чуть меньше.\n",
        "\n",
        "ARPPU выросла на 30% после внедрения фичи и теперь составляет 0.4 у.е. \n",
        "\n",
        "Нельзя сделать точные выводы по двум метрикам, Retention Rate остался примерно одинаковым, а на величину ARPPU погли повлиять другие факторы. Но серьезных уменьшений значений метрик не выявлено, поэтому фичу можно оставлять"
      ]
    },
    {
      "cell_type": "code",
      "metadata": {
        "id": "sWMu_XcSRyhl"
      },
      "source": [
        ""
      ],
      "execution_count": null,
      "outputs": []
    }
  ]
}