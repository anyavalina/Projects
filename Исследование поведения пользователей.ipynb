{
  "nbformat": 4,
  "nbformat_minor": 0,
  "metadata": {
    "kernelspec": {
      "display_name": "Python 3",
      "language": "python",
      "name": "python3"
    },
    "language_info": {
      "codemirror_mode": {
        "name": "ipython",
        "version": 3
      },
      "file_extension": ".py",
      "mimetype": "text/x-python",
      "name": "python",
      "nbconvert_exporter": "python",
      "pygments_lexer": "ipython3",
      "version": "3.6.5"
    },
    "colab": {
      "name": "GD3 project .ipynb",
      "provenance": []
    }
  },
  "cells": [
    {
      "cell_type": "markdown",
      "metadata": {
        "id": "6RKGCsm7r_2y"
      },
      "source": [
        "# Цель проекта проверить:\n",
        "\n",
        "## 1. Зависит ли вероятность оплаты от выбранного пользователем уровня сложности?\n",
        "\n",
        "## 2. Существует ли разница во времени между событиями выбора уровня сложности и оплаты для разных групп пользователей с разным уровнем сложности?\n",
        "### Проверка производится на данных за 2018 год"
      ]
    },
    {
      "cell_type": "code",
      "metadata": {
        "id": "XK9-DQO7r_25"
      },
      "source": [
        "#Загрузка необходимой библиотеки\n",
        "import pandas as pd"
      ],
      "execution_count": null,
      "outputs": []
    },
    {
      "cell_type": "code",
      "metadata": {
        "id": "OVLvuTZKr_26",
        "outputId": "60e5755d-f5dc-4fa3-eec8-57819392135c"
      },
      "source": [
        "#Загрузка данных\n",
        "df=pd.read_csv('7_4_Events.csv')\n",
        "#Выделим данные за 2018 год\n",
        "cond = (df.start_time>='2018-01-01') & (df.start_time<'2019-01-01') & (df.event_type=='registration')\n",
        "registered = df[cond]['user_id'] # список пользователей, зарег. в 2018\n",
        "df_events = df[df.user_id.isin(registered)]\n",
        "df_events.start_time = pd.to_datetime(df_events.start_time, format='%Y-%m-%dT%H:%M:%S')"
      ],
      "execution_count": null,
      "outputs": [
        {
          "output_type": "stream",
          "text": [
            "C:\\ProgramData\\Anaconda3\\lib\\site-packages\\pandas\\core\\generic.py:4401: SettingWithCopyWarning: \n",
            "A value is trying to be set on a copy of a slice from a DataFrame.\n",
            "Try using .loc[row_indexer,col_indexer] = value instead\n",
            "\n",
            "See the caveats in the documentation: http://pandas.pydata.org/pandas-docs/stable/indexing.html#indexing-view-versus-copy\n",
            "  self[name] = value\n"
          ],
          "name": "stderr"
        }
      ]
    },
    {
      "cell_type": "code",
      "metadata": {
        "id": "4QW3mVwAr_27",
        "outputId": "68138cea-f0d1-479a-ed69-6d3789481687"
      },
      "source": [
        "#Знакомство с данными\n",
        "df_events.head()"
      ],
      "execution_count": null,
      "outputs": [
        {
          "output_type": "execute_result",
          "data": {
            "text/html": [
              "<div>\n",
              "<style scoped>\n",
              "    .dataframe tbody tr th:only-of-type {\n",
              "        vertical-align: middle;\n",
              "    }\n",
              "\n",
              "    .dataframe tbody tr th {\n",
              "        vertical-align: top;\n",
              "    }\n",
              "\n",
              "    .dataframe thead th {\n",
              "        text-align: right;\n",
              "    }\n",
              "</style>\n",
              "<table border=\"1\" class=\"dataframe\">\n",
              "  <thead>\n",
              "    <tr style=\"text-align: right;\">\n",
              "      <th></th>\n",
              "      <th>id</th>\n",
              "      <th>event_type</th>\n",
              "      <th>selected_level</th>\n",
              "      <th>start_time</th>\n",
              "      <th>tutorial_id</th>\n",
              "      <th>user_id</th>\n",
              "    </tr>\n",
              "  </thead>\n",
              "  <tbody>\n",
              "    <tr>\n",
              "      <th>51405</th>\n",
              "      <td>80308</td>\n",
              "      <td>registration</td>\n",
              "      <td>NaN</td>\n",
              "      <td>2018-01-01 03:48:40</td>\n",
              "      <td>NaN</td>\n",
              "      <td>27832</td>\n",
              "    </tr>\n",
              "    <tr>\n",
              "      <th>51406</th>\n",
              "      <td>80309</td>\n",
              "      <td>registration</td>\n",
              "      <td>NaN</td>\n",
              "      <td>2018-01-01 04:07:25</td>\n",
              "      <td>NaN</td>\n",
              "      <td>27833</td>\n",
              "    </tr>\n",
              "    <tr>\n",
              "      <th>51407</th>\n",
              "      <td>80310</td>\n",
              "      <td>registration</td>\n",
              "      <td>NaN</td>\n",
              "      <td>2018-01-01 08:35:10</td>\n",
              "      <td>NaN</td>\n",
              "      <td>27834</td>\n",
              "    </tr>\n",
              "    <tr>\n",
              "      <th>51408</th>\n",
              "      <td>80311</td>\n",
              "      <td>registration</td>\n",
              "      <td>NaN</td>\n",
              "      <td>2018-01-01 11:54:47</td>\n",
              "      <td>NaN</td>\n",
              "      <td>27835</td>\n",
              "    </tr>\n",
              "    <tr>\n",
              "      <th>51409</th>\n",
              "      <td>80312</td>\n",
              "      <td>registration</td>\n",
              "      <td>NaN</td>\n",
              "      <td>2018-01-01 13:28:07</td>\n",
              "      <td>NaN</td>\n",
              "      <td>27836</td>\n",
              "    </tr>\n",
              "  </tbody>\n",
              "</table>\n",
              "</div>"
            ],
            "text/plain": [
              "          id    event_type selected_level          start_time  tutorial_id  \\\n",
              "51405  80308  registration            NaN 2018-01-01 03:48:40          NaN   \n",
              "51406  80309  registration            NaN 2018-01-01 04:07:25          NaN   \n",
              "51407  80310  registration            NaN 2018-01-01 08:35:10          NaN   \n",
              "51408  80311  registration            NaN 2018-01-01 11:54:47          NaN   \n",
              "51409  80312  registration            NaN 2018-01-01 13:28:07          NaN   \n",
              "\n",
              "       user_id  \n",
              "51405    27832  \n",
              "51406    27833  \n",
              "51407    27834  \n",
              "51408    27835  \n",
              "51409    27836  "
            ]
          },
          "metadata": {
            "tags": []
          },
          "execution_count": 3
        }
      ]
    },
    {
      "cell_type": "code",
      "metadata": {
        "id": "Wr2bABdtr_28",
        "outputId": "e02b4b12-7ada-45f5-bba1-ab954a78aa45"
      },
      "source": [
        "df_events.info()"
      ],
      "execution_count": null,
      "outputs": [
        {
          "output_type": "stream",
          "text": [
            "<class 'pandas.core.frame.DataFrame'>\n",
            "Int64Index: 66959 entries, 51405 to 118364\n",
            "Data columns (total 6 columns):\n",
            "id                66959 non-null int64\n",
            "event_type        66959 non-null object\n",
            "selected_level    8342 non-null object\n",
            "start_time        66959 non-null datetime64[ns]\n",
            "tutorial_id       32954 non-null float64\n",
            "user_id           66959 non-null int64\n",
            "dtypes: datetime64[ns](1), float64(1), int64(2), object(2)\n",
            "memory usage: 3.6+ MB\n"
          ],
          "name": "stdout"
        }
      ]
    },
    {
      "cell_type": "markdown",
      "metadata": {
        "id": "JBt16fJur_29"
      },
      "source": [
        "Датафрейм df_events содержит 66959 строк и 6 столбцов, при этом в столбцах selected_level и tutorial_id есть пропущенные значения.\n",
        "Это обусловлено тем, что не все из параметров selected_level, tutorial_id присутствуют в каждом из событий. Эти параметры заполнятся в зависимости от event_type."
      ]
    },
    {
      "cell_type": "code",
      "metadata": {
        "id": "5nI05MLJr_2-",
        "outputId": "c8c53932-a97b-4cd9-8fd1-45f8f242aa26"
      },
      "source": [
        "#Оценим характеристики каждого столбца\n",
        "df_events.describe(include='all')"
      ],
      "execution_count": null,
      "outputs": [
        {
          "output_type": "execute_result",
          "data": {
            "text/html": [
              "<div>\n",
              "<style scoped>\n",
              "    .dataframe tbody tr th:only-of-type {\n",
              "        vertical-align: middle;\n",
              "    }\n",
              "\n",
              "    .dataframe tbody tr th {\n",
              "        vertical-align: top;\n",
              "    }\n",
              "\n",
              "    .dataframe thead th {\n",
              "        text-align: right;\n",
              "    }\n",
              "</style>\n",
              "<table border=\"1\" class=\"dataframe\">\n",
              "  <thead>\n",
              "    <tr style=\"text-align: right;\">\n",
              "      <th></th>\n",
              "      <th>id</th>\n",
              "      <th>event_type</th>\n",
              "      <th>selected_level</th>\n",
              "      <th>start_time</th>\n",
              "      <th>tutorial_id</th>\n",
              "      <th>user_id</th>\n",
              "    </tr>\n",
              "  </thead>\n",
              "  <tbody>\n",
              "    <tr>\n",
              "      <th>count</th>\n",
              "      <td>66959.000000</td>\n",
              "      <td>66959</td>\n",
              "      <td>8342</td>\n",
              "      <td>66959</td>\n",
              "      <td>32954.000000</td>\n",
              "      <td>66959.000000</td>\n",
              "    </tr>\n",
              "    <tr>\n",
              "      <th>unique</th>\n",
              "      <td>NaN</td>\n",
              "      <td>5</td>\n",
              "      <td>3</td>\n",
              "      <td>66809</td>\n",
              "      <td>NaN</td>\n",
              "      <td>NaN</td>\n",
              "    </tr>\n",
              "    <tr>\n",
              "      <th>top</th>\n",
              "      <td>NaN</td>\n",
              "      <td>registration</td>\n",
              "      <td>medium</td>\n",
              "      <td>2018-03-13 09:37:43</td>\n",
              "      <td>NaN</td>\n",
              "      <td>NaN</td>\n",
              "    </tr>\n",
              "    <tr>\n",
              "      <th>freq</th>\n",
              "      <td>NaN</td>\n",
              "      <td>19926</td>\n",
              "      <td>4645</td>\n",
              "      <td>9</td>\n",
              "      <td>NaN</td>\n",
              "      <td>NaN</td>\n",
              "    </tr>\n",
              "    <tr>\n",
              "      <th>first</th>\n",
              "      <td>NaN</td>\n",
              "      <td>NaN</td>\n",
              "      <td>NaN</td>\n",
              "      <td>2018-01-01 03:48:40</td>\n",
              "      <td>NaN</td>\n",
              "      <td>NaN</td>\n",
              "    </tr>\n",
              "    <tr>\n",
              "      <th>last</th>\n",
              "      <td>NaN</td>\n",
              "      <td>NaN</td>\n",
              "      <td>NaN</td>\n",
              "      <td>2019-01-01 05:50:36</td>\n",
              "      <td>NaN</td>\n",
              "      <td>NaN</td>\n",
              "    </tr>\n",
              "    <tr>\n",
              "      <th>mean</th>\n",
              "      <td>113787.000045</td>\n",
              "      <td>NaN</td>\n",
              "      <td>NaN</td>\n",
              "      <td>NaN</td>\n",
              "      <td>40532.934393</td>\n",
              "      <td>37781.543362</td>\n",
              "    </tr>\n",
              "    <tr>\n",
              "      <th>std</th>\n",
              "      <td>19329.542752</td>\n",
              "      <td>NaN</td>\n",
              "      <td>NaN</td>\n",
              "      <td>NaN</td>\n",
              "      <td>5213.486632</td>\n",
              "      <td>5751.497904</td>\n",
              "    </tr>\n",
              "    <tr>\n",
              "      <th>min</th>\n",
              "      <td>80308.000000</td>\n",
              "      <td>NaN</td>\n",
              "      <td>NaN</td>\n",
              "      <td>NaN</td>\n",
              "      <td>31505.000000</td>\n",
              "      <td>27832.000000</td>\n",
              "    </tr>\n",
              "    <tr>\n",
              "      <th>25%</th>\n",
              "      <td>97047.500000</td>\n",
              "      <td>NaN</td>\n",
              "      <td>NaN</td>\n",
              "      <td>NaN</td>\n",
              "      <td>36008.250000</td>\n",
              "      <td>32849.000000</td>\n",
              "    </tr>\n",
              "    <tr>\n",
              "      <th>50%</th>\n",
              "      <td>113787.000000</td>\n",
              "      <td>NaN</td>\n",
              "      <td>NaN</td>\n",
              "      <td>NaN</td>\n",
              "      <td>40529.500000</td>\n",
              "      <td>37719.000000</td>\n",
              "    </tr>\n",
              "    <tr>\n",
              "      <th>75%</th>\n",
              "      <td>130526.500000</td>\n",
              "      <td>NaN</td>\n",
              "      <td>NaN</td>\n",
              "      <td>NaN</td>\n",
              "      <td>45057.750000</td>\n",
              "      <td>42733.000000</td>\n",
              "    </tr>\n",
              "    <tr>\n",
              "      <th>max</th>\n",
              "      <td>147267.000000</td>\n",
              "      <td>NaN</td>\n",
              "      <td>NaN</td>\n",
              "      <td>NaN</td>\n",
              "      <td>49554.000000</td>\n",
              "      <td>47757.000000</td>\n",
              "    </tr>\n",
              "  </tbody>\n",
              "</table>\n",
              "</div>"
            ],
            "text/plain": [
              "                   id    event_type selected_level           start_time  \\\n",
              "count    66959.000000         66959           8342                66959   \n",
              "unique            NaN             5              3                66809   \n",
              "top               NaN  registration         medium  2018-03-13 09:37:43   \n",
              "freq              NaN         19926           4645                    9   \n",
              "first             NaN           NaN            NaN  2018-01-01 03:48:40   \n",
              "last              NaN           NaN            NaN  2019-01-01 05:50:36   \n",
              "mean    113787.000045           NaN            NaN                  NaN   \n",
              "std      19329.542752           NaN            NaN                  NaN   \n",
              "min      80308.000000           NaN            NaN                  NaN   \n",
              "25%      97047.500000           NaN            NaN                  NaN   \n",
              "50%     113787.000000           NaN            NaN                  NaN   \n",
              "75%     130526.500000           NaN            NaN                  NaN   \n",
              "max     147267.000000           NaN            NaN                  NaN   \n",
              "\n",
              "         tutorial_id       user_id  \n",
              "count   32954.000000  66959.000000  \n",
              "unique           NaN           NaN  \n",
              "top              NaN           NaN  \n",
              "freq             NaN           NaN  \n",
              "first            NaN           NaN  \n",
              "last             NaN           NaN  \n",
              "mean    40532.934393  37781.543362  \n",
              "std      5213.486632   5751.497904  \n",
              "min     31505.000000  27832.000000  \n",
              "25%     36008.250000  32849.000000  \n",
              "50%     40529.500000  37719.000000  \n",
              "75%     45057.750000  42733.000000  \n",
              "max     49554.000000  47757.000000  "
            ]
          },
          "metadata": {
            "tags": []
          },
          "execution_count": 5
        }
      ]
    },
    {
      "cell_type": "code",
      "metadata": {
        "id": "P7UfAo4Or_2_",
        "outputId": "e8961528-3c20-4557-c867-f5469c29157d"
      },
      "source": [
        "#Столбцы с типом события и уровнем сложности есть всего 5 и 3 соответственно уникальных значений, посмотрим на них\n",
        "print('Типы событий: {}, уровни сложностей: {}.'.format(df_events['event_type'].unique(), df_events['selected_level'].unique()))"
      ],
      "execution_count": null,
      "outputs": [
        {
          "output_type": "stream",
          "text": [
            "Типы событий: ['registration' 'tutorial_start' 'tutorial_finish' 'level_choice'\n",
            " 'pack_choice'], уровни сложностей: [nan 'medium' 'hard' 'easy'].\n"
          ],
          "name": "stdout"
        }
      ]
    },
    {
      "cell_type": "code",
      "metadata": {
        "id": "6Vu1vPuBr_2_",
        "outputId": "3fa45bd9-2244-40d4-95b5-a9f47279b7e8"
      },
      "source": [
        "#Также оценим, какое количество пользователей совершали события\n",
        "df_events['user_id'].nunique()"
      ],
      "execution_count": null,
      "outputs": [
        {
          "output_type": "execute_result",
          "data": {
            "text/plain": [
              "19926"
            ]
          },
          "metadata": {
            "tags": []
          },
          "execution_count": 7
        }
      ]
    },
    {
      "cell_type": "code",
      "metadata": {
        "id": "MKV2dAqZr_3A",
        "outputId": "980071fa-aa37-4e8b-c594-a8fd4bb3b1b2"
      },
      "source": [
        "#Загрузка данных о покупках\n",
        "df2=pd.read_csv('purchase.csv')\n",
        "#Выделение данных за 2018 год\n",
        "df_purchases = df2[df2.user_id.isin(registered)]\n",
        "df_purchases.event_datetime = pd.to_datetime(df_purchases.event_datetime, format='%Y-%m-%dT%H:%M:%S')"
      ],
      "execution_count": null,
      "outputs": [
        {
          "output_type": "stream",
          "text": [
            "C:\\ProgramData\\Anaconda3\\lib\\site-packages\\pandas\\core\\generic.py:4401: SettingWithCopyWarning: \n",
            "A value is trying to be set on a copy of a slice from a DataFrame.\n",
            "Try using .loc[row_indexer,col_indexer] = value instead\n",
            "\n",
            "See the caveats in the documentation: http://pandas.pydata.org/pandas-docs/stable/indexing.html#indexing-view-versus-copy\n",
            "  self[name] = value\n"
          ],
          "name": "stderr"
        }
      ]
    },
    {
      "cell_type": "code",
      "metadata": {
        "id": "pnZQtIwpr_3B",
        "outputId": "0ac94734-47cc-4ccb-ffdd-092950d0c122"
      },
      "source": [
        "#Знакомство с данными\n",
        "df_purchases.head()"
      ],
      "execution_count": null,
      "outputs": [
        {
          "output_type": "execute_result",
          "data": {
            "text/html": [
              "<div>\n",
              "<style scoped>\n",
              "    .dataframe tbody tr th:only-of-type {\n",
              "        vertical-align: middle;\n",
              "    }\n",
              "\n",
              "    .dataframe tbody tr th {\n",
              "        vertical-align: top;\n",
              "    }\n",
              "\n",
              "    .dataframe thead th {\n",
              "        text-align: right;\n",
              "    }\n",
              "</style>\n",
              "<table border=\"1\" class=\"dataframe\">\n",
              "  <thead>\n",
              "    <tr style=\"text-align: right;\">\n",
              "      <th></th>\n",
              "      <th>id</th>\n",
              "      <th>user_id</th>\n",
              "      <th>event_datetime</th>\n",
              "      <th>amount</th>\n",
              "    </tr>\n",
              "  </thead>\n",
              "  <tbody>\n",
              "    <tr>\n",
              "      <th>1171</th>\n",
              "      <td>16845</td>\n",
              "      <td>27845</td>\n",
              "      <td>2018-01-03 18:53:43</td>\n",
              "      <td>100</td>\n",
              "    </tr>\n",
              "    <tr>\n",
              "      <th>1172</th>\n",
              "      <td>16846</td>\n",
              "      <td>27865</td>\n",
              "      <td>2018-01-04 14:46:10</td>\n",
              "      <td>250</td>\n",
              "    </tr>\n",
              "    <tr>\n",
              "      <th>1174</th>\n",
              "      <td>16848</td>\n",
              "      <td>27911</td>\n",
              "      <td>2018-01-07 08:19:12</td>\n",
              "      <td>50</td>\n",
              "    </tr>\n",
              "    <tr>\n",
              "      <th>1175</th>\n",
              "      <td>16849</td>\n",
              "      <td>27910</td>\n",
              "      <td>2018-01-07 12:11:34</td>\n",
              "      <td>100</td>\n",
              "    </tr>\n",
              "    <tr>\n",
              "      <th>1176</th>\n",
              "      <td>16850</td>\n",
              "      <td>27940</td>\n",
              "      <td>2018-01-07 13:16:41</td>\n",
              "      <td>200</td>\n",
              "    </tr>\n",
              "  </tbody>\n",
              "</table>\n",
              "</div>"
            ],
            "text/plain": [
              "         id  user_id      event_datetime  amount\n",
              "1171  16845    27845 2018-01-03 18:53:43     100\n",
              "1172  16846    27865 2018-01-04 14:46:10     250\n",
              "1174  16848    27911 2018-01-07 08:19:12      50\n",
              "1175  16849    27910 2018-01-07 12:11:34     100\n",
              "1176  16850    27940 2018-01-07 13:16:41     200"
            ]
          },
          "metadata": {
            "tags": []
          },
          "execution_count": 9
        }
      ]
    },
    {
      "cell_type": "code",
      "metadata": {
        "id": "Mw-qY0ISr_3B",
        "outputId": "b2389d48-b65b-4b7a-fe93-b94c13052b0d"
      },
      "source": [
        "df_purchases.info()"
      ],
      "execution_count": null,
      "outputs": [
        {
          "output_type": "stream",
          "text": [
            "<class 'pandas.core.frame.DataFrame'>\n",
            "Int64Index: 1600 entries, 1171 to 2778\n",
            "Data columns (total 4 columns):\n",
            "id                1600 non-null int64\n",
            "user_id           1600 non-null int64\n",
            "event_datetime    1600 non-null datetime64[ns]\n",
            "amount            1600 non-null int64\n",
            "dtypes: datetime64[ns](1), int64(3)\n",
            "memory usage: 62.5 KB\n"
          ],
          "name": "stdout"
        }
      ]
    },
    {
      "cell_type": "markdown",
      "metadata": {
        "id": "sf61wckwr_3C"
      },
      "source": [
        "В датафрейме с данными о покупках за 2018 год присутствует 4 столбца и 1600 строк, пропущенны значений нет"
      ]
    },
    {
      "cell_type": "code",
      "metadata": {
        "id": "DLvGTvF7r_3C"
      },
      "source": [
        "#Переименуем стоблцы перед объединением\n",
        "df_events=df_events.rename(columns={'id':'event_id'})\n",
        "df_purchases=df_purchases.rename(columns={'id':'purchase_id'})\n",
        "df_purchases['event_type']='purchase'\n",
        "#Объединение таблиц\n",
        "total_df=pd.concat([df_events,df_purchases], sort = False)"
      ],
      "execution_count": null,
      "outputs": []
    },
    {
      "cell_type": "code",
      "metadata": {
        "id": "srD0dkaWr_3D"
      },
      "source": [
        "#Сформируем группы пользователей по выбранному уровню сложности\n",
        "users_with_easy_lvl=total_df[total_df['selected_level'] == 'easy']['user_id'].unique()\n",
        "users_with_medium_lvl=total_df[total_df['selected_level'] == 'medium']['user_id'].unique()\n",
        "users_with_hard_lvl=total_df[total_df['selected_level'] == 'hard']['user_id'].unique()"
      ],
      "execution_count": null,
      "outputs": []
    },
    {
      "cell_type": "code",
      "metadata": {
        "id": "53m149L7r_3D",
        "outputId": "bf59f174-028f-42c8-87fc-46c80011fb43"
      },
      "source": [
        "percent1=len(df_purchases[df_purchases['user_id'].isin(users_with_easy_lvl)])/len(users_with_easy_lvl)\n",
        "percent2=len(df_purchases[df_purchases['user_id'].isin(users_with_medium_lvl)])/len(users_with_medium_lvl)\n",
        "percent3=len(df_purchases[df_purchases['user_id'].isin(users_with_hard_lvl)])/len(users_with_hard_lvl)\n",
        "print('Процент пользователей, совершивших покупку (среди тех, кто выбрал простой уровень сложности): {:.2%}'.format(percent1))\n",
        "print('Процент пользователей, совершивших покупку (среди тех, кто выбрал средний уровень сложности): {:.2%}'.format(percent2))\n",
        "print('Процент пользователей, совершивших покупку (среди тех, кто выбрал тяжелый уровень сложности): {:.2%}'.format(percent3))"
      ],
      "execution_count": null,
      "outputs": [
        {
          "output_type": "stream",
          "text": [
            "Процент пользователей, совершивших покупку (среди тех, кто выбрал простой уровень сложности): 7.72%\n",
            "Процент пользователей, совершивших покупку (среди тех, кто выбрал средний уровень сложности): 20.86%\n",
            "Процент пользователей, совершивших покупку (среди тех, кто выбрал тяжелый уровень сложности): 35.39%\n"
          ],
          "name": "stdout"
        }
      ]
    },
    {
      "cell_type": "markdown",
      "metadata": {
        "id": "1vvA5WUBr_3E"
      },
      "source": [
        "По полученным данным видно, что чем сложнее уровень выбирает пользователь, тем более вероятно, что он совершит покупку в дальнейшем."
      ]
    },
    {
      "cell_type": "code",
      "metadata": {
        "id": "TdkkyMhyr_3E",
        "outputId": "c2889d3c-3734-4423-87e0-372cec0412b0"
      },
      "source": [
        "total_df.head()"
      ],
      "execution_count": null,
      "outputs": [
        {
          "output_type": "execute_result",
          "data": {
            "text/html": [
              "<div>\n",
              "<style scoped>\n",
              "    .dataframe tbody tr th:only-of-type {\n",
              "        vertical-align: middle;\n",
              "    }\n",
              "\n",
              "    .dataframe tbody tr th {\n",
              "        vertical-align: top;\n",
              "    }\n",
              "\n",
              "    .dataframe thead th {\n",
              "        text-align: right;\n",
              "    }\n",
              "</style>\n",
              "<table border=\"1\" class=\"dataframe\">\n",
              "  <thead>\n",
              "    <tr style=\"text-align: right;\">\n",
              "      <th></th>\n",
              "      <th>event_id</th>\n",
              "      <th>event_type</th>\n",
              "      <th>selected_level</th>\n",
              "      <th>start_time</th>\n",
              "      <th>tutorial_id</th>\n",
              "      <th>user_id</th>\n",
              "      <th>purchase_id</th>\n",
              "      <th>event_datetime</th>\n",
              "      <th>amount</th>\n",
              "    </tr>\n",
              "  </thead>\n",
              "  <tbody>\n",
              "    <tr>\n",
              "      <th>51405</th>\n",
              "      <td>80308.0</td>\n",
              "      <td>registration</td>\n",
              "      <td>NaN</td>\n",
              "      <td>2018-01-01 03:48:40</td>\n",
              "      <td>NaN</td>\n",
              "      <td>27832</td>\n",
              "      <td>NaN</td>\n",
              "      <td>NaT</td>\n",
              "      <td>NaN</td>\n",
              "    </tr>\n",
              "    <tr>\n",
              "      <th>51406</th>\n",
              "      <td>80309.0</td>\n",
              "      <td>registration</td>\n",
              "      <td>NaN</td>\n",
              "      <td>2018-01-01 04:07:25</td>\n",
              "      <td>NaN</td>\n",
              "      <td>27833</td>\n",
              "      <td>NaN</td>\n",
              "      <td>NaT</td>\n",
              "      <td>NaN</td>\n",
              "    </tr>\n",
              "    <tr>\n",
              "      <th>51407</th>\n",
              "      <td>80310.0</td>\n",
              "      <td>registration</td>\n",
              "      <td>NaN</td>\n",
              "      <td>2018-01-01 08:35:10</td>\n",
              "      <td>NaN</td>\n",
              "      <td>27834</td>\n",
              "      <td>NaN</td>\n",
              "      <td>NaT</td>\n",
              "      <td>NaN</td>\n",
              "    </tr>\n",
              "    <tr>\n",
              "      <th>51408</th>\n",
              "      <td>80311.0</td>\n",
              "      <td>registration</td>\n",
              "      <td>NaN</td>\n",
              "      <td>2018-01-01 11:54:47</td>\n",
              "      <td>NaN</td>\n",
              "      <td>27835</td>\n",
              "      <td>NaN</td>\n",
              "      <td>NaT</td>\n",
              "      <td>NaN</td>\n",
              "    </tr>\n",
              "    <tr>\n",
              "      <th>51409</th>\n",
              "      <td>80312.0</td>\n",
              "      <td>registration</td>\n",
              "      <td>NaN</td>\n",
              "      <td>2018-01-01 13:28:07</td>\n",
              "      <td>NaN</td>\n",
              "      <td>27836</td>\n",
              "      <td>NaN</td>\n",
              "      <td>NaT</td>\n",
              "      <td>NaN</td>\n",
              "    </tr>\n",
              "  </tbody>\n",
              "</table>\n",
              "</div>"
            ],
            "text/plain": [
              "       event_id    event_type selected_level          start_time  tutorial_id  \\\n",
              "51405   80308.0  registration            NaN 2018-01-01 03:48:40          NaN   \n",
              "51406   80309.0  registration            NaN 2018-01-01 04:07:25          NaN   \n",
              "51407   80310.0  registration            NaN 2018-01-01 08:35:10          NaN   \n",
              "51408   80311.0  registration            NaN 2018-01-01 11:54:47          NaN   \n",
              "51409   80312.0  registration            NaN 2018-01-01 13:28:07          NaN   \n",
              "\n",
              "       user_id  purchase_id event_datetime  amount  \n",
              "51405    27832          NaN            NaT     NaN  \n",
              "51406    27833          NaN            NaT     NaN  \n",
              "51407    27834          NaN            NaT     NaN  \n",
              "51408    27835          NaN            NaT     NaN  \n",
              "51409    27836          NaN            NaT     NaN  "
            ]
          },
          "metadata": {
            "tags": []
          },
          "execution_count": 14
        }
      ]
    },
    {
      "cell_type": "code",
      "metadata": {
        "id": "uJdLCjNzr_3F"
      },
      "source": [
        "#Сформируем таблицы с датами выбора уровня сложности\n",
        "easy_lvl_events=total_df[total_df['selected_level'] == 'easy'][['user_id','start_time']].rename(columns={'start_time':'selected_level_time'})\n",
        "medium_lvl_events=total_df[total_df['selected_level'] == 'medium'][['user_id','start_time']].rename(columns={'start_time':'selected_level_time'})\n",
        "hard_lvl_events=total_df[total_df['selected_level'] == 'hard'][['user_id','start_time']].rename(columns={'start_time':'selected_level_time'})"
      ],
      "execution_count": null,
      "outputs": []
    },
    {
      "cell_type": "code",
      "metadata": {
        "id": "W_hJtvNlr_3F",
        "outputId": "fa660991-f6f0-4946-c540-37ce6f820dac"
      },
      "source": [
        "#Проверим данные на повторение пользователей\n",
        "print(easy_lvl_events.user_id.value_counts().mean(), medium_lvl_events.user_id.value_counts().mean(), hard_lvl_events.user_id.value_counts().mean())"
      ],
      "execution_count": null,
      "outputs": [
        {
          "output_type": "stream",
          "text": [
            "1.0 1.0 1.0\n"
          ],
          "name": "stdout"
        }
      ]
    },
    {
      "cell_type": "markdown",
      "metadata": {
        "id": "FNnvnC_wr_3G"
      },
      "source": [
        "Повторов нет, тк в среднем каждый пользователь встречается ровно 1 раз"
      ]
    },
    {
      "cell_type": "code",
      "metadata": {
        "id": "yqv9DySvr_3H"
      },
      "source": [
        "#Сформируем таблицы с датами покупок\n",
        "easy_lvl_purchase=total_df[(total_df['event_type'] == 'purchase')&(total_df['user_id'].isin(users_with_easy_lvl))][['user_id','event_datetime']].rename(columns={'event_datetime':'purchase_time'})\n",
        "medium_lvl_purchase=total_df[(total_df['event_type'] == 'purchase')&(total_df['user_id'].isin(users_with_medium_lvl))][['user_id','event_datetime']].rename(columns={'event_datetime':'purchase_time'})\n",
        "hard_lvl_purchase=total_df[(total_df['event_type'] == 'purchase')&(total_df['user_id'].isin(users_with_hard_lvl))][['user_id','event_datetime']].rename(columns={'event_datetime':'purchase_time'})"
      ],
      "execution_count": null,
      "outputs": []
    },
    {
      "cell_type": "code",
      "metadata": {
        "id": "FEQaN9yxr_3H"
      },
      "source": [
        "#Объединяем таблицы по номеру пользователя\n",
        "mergered1=easy_lvl_purchase.merge(easy_lvl_events, on = 'user_id', how = 'inner')\n",
        "mergered2=medium_lvl_purchase.merge(medium_lvl_events, on = 'user_id', how = 'inner')\n",
        "mergered3=hard_lvl_purchase.merge(hard_lvl_events, on = 'user_id', how = 'inner')\n",
        "#Вычисляем разницу между событиями выбора уровня и покупки\n",
        "mergered1['time_delta'] = mergered1['purchase_time'] - mergered1['selected_level_time']\n",
        "mergered2['time_delta'] = mergered2['purchase_time'] - mergered2['selected_level_time']\n",
        "mergered3['time_delta'] = mergered3['purchase_time'] - mergered3['selected_level_time']"
      ],
      "execution_count": null,
      "outputs": []
    },
    {
      "cell_type": "code",
      "metadata": {
        "id": "fRJecdn3r_3I",
        "outputId": "faf7a733-5a29-408f-ba0b-626c71ccbcc7"
      },
      "source": [
        "print('Через {} в среднем совершает покупку пользователь, выбравший легкий уровень сложности\\nЧерез {} в среднем совершает покупку пользователь, выбравший средний уровень сложности\\nЧерез {} в среднем совершает покупку пользователь, выбравший тяжелый уровень сложности'. format(mergered1['time_delta'].mean(), mergered2['time_delta'].mean(), mergered3['time_delta'].mean()))"
      ],
      "execution_count": null,
      "outputs": [
        {
          "output_type": "stream",
          "text": [
            "Через 3 days 14:58:52.941798 в среднем совершает покупку пользователь, выбравший легкий уровень сложности\n",
            "Через 3 days 23:14:13.165118 в среднем совершает покупку пользователь, выбравший средний уровень сложности\n",
            "Через 3 days 07:20:41.420814 в среднем совершает покупку пользователь, выбравший тяжелый уровень сложности\n"
          ],
          "name": "stdout"
        }
      ]
    },
    {
      "cell_type": "markdown",
      "metadata": {
        "id": "YPCJ-I_cr_3J"
      },
      "source": [
        "Исходя из приведенного выше, можно сделать вывод, что в среднем пользователи совершают покупку через 3 дня.\n",
        "Нельзя выделить какую-то зависимость между уровнем и быстротой совершения покупки.\n",
        "Но быстрее всех покупку совершают пользователи, выбравшие тяжелый уровень сложности."
      ]
    },
    {
      "cell_type": "markdown",
      "metadata": {
        "id": "h9C0nvswr_3J"
      },
      "source": [
        "# Вывод:\n",
        "### Процент пользователей, совершивших покупку (среди тех, кто выбрал простой уровень сложности): 7.72%. Процент пользователей, совершивших покупку (среди тех, кто выбрал средний уровень сложности): 20.86%. Процент пользователей, совершивших покупку (среди тех, кто выбрал тяжелый уровень сложности): 35.39%\n",
        "### По этим данным можно сделать вывод, что чем сложнее уровень выбирает пользователь, тем вероятнее он совершит покупку платных вопросов. \n",
        "### Пользователи, выбравшие легкий уровень, совершают покупку в среднем через 3 дня 14 часов. Пользователи, выбравшие средний уровень, совершают покупку в среднем через 3 дня 23 часа. Пользователи, выбравшие тяжелый уровень, совершают покупку в среднем через 3 дня 7 часов.\n",
        "### Нельзя выявить прямую зависимость между выбором уровня сложности и быстротой совершения покупки. Но быстрее всех покупку совершают пользователи, выбравшие тяжелый уровень сложности."
      ]
    },
    {
      "cell_type": "code",
      "metadata": {
        "id": "i4gS4FVTr_3K"
      },
      "source": [
        ""
      ],
      "execution_count": null,
      "outputs": []
    }
  ]
}