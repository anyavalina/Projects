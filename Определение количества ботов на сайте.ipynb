{
  "nbformat": 4,
  "nbformat_minor": 0,
  "metadata": {
    "kernelspec": {
      "display_name": "Python 3",
      "language": "python",
      "name": "python3"
    },
    "language_info": {
      "codemirror_mode": {
        "name": "ipython",
        "version": 3
      },
      "file_extension": ".py",
      "mimetype": "text/x-python",
      "name": "python",
      "nbconvert_exporter": "python",
      "pygments_lexer": "ipython3",
      "version": "3.6.5"
    },
    "colab": {
      "name": "OD-1 Project.ipynb",
      "provenance": []
    }
  },
  "cells": [
    {
      "cell_type": "markdown",
      "metadata": {
        "id": "MFJ67Pc6QBg3"
      },
      "source": [
        "# Задачи\n",
        "### 1. Оценить количество ботов, которые заходят на наш сайт, и их долю от всего трафика.\n",
        "### 2. Определить, с каких источников и в какое время суток чаще всего заходят роботы."
      ]
    },
    {
      "cell_type": "code",
      "metadata": {
        "id": "o5ytNX2yQBhB"
      },
      "source": [
        "#Загрузка необходимых библиотек\n",
        "import json \n",
        "import requests\n",
        "from pprint import pprint\n",
        "import pandas as pd"
      ],
      "execution_count": null,
      "outputs": []
    },
    {
      "cell_type": "code",
      "metadata": {
        "id": "-syvQ2PrQBhD"
      },
      "source": [
        "params = {'metrics': 'ym:s:visits,ym:s:robotPercentage',\n",
        "          'dimensions':'ym:s:lastsignTrafficSource,ym:s:hour',\n",
        "          'date1': '2020-09-01',  \n",
        "          'date2': '2020-09-30',     \n",
        "          'ids': 30177909,\n",
        "          'accuracy':'full',\n",
        "          'limit':100000}\n",
        "\n",
        "token = 'AQAAAAA3MYDsAAdYqajdxw9RJkvim0w3F0XJB00'\n",
        "headers = {'Authorization': 'OAuth ' + token}"
      ],
      "execution_count": null,
      "outputs": []
    },
    {
      "cell_type": "code",
      "metadata": {
        "id": "2EV1SCsPQBhF",
        "outputId": "314a1d29-ffcf-44e1-a90b-a170967056d0"
      },
      "source": [
        "#Запрос к Яндекс Метрике \n",
        "response = requests.get('https://api-metrika.yandex.net/stat/v1/data', params=params, headers=headers)\n",
        "print (response.status_code) #код ответа, полученный от API"
      ],
      "execution_count": null,
      "outputs": [
        {
          "name": "stdout",
          "output_type": "stream",
          "text": [
            "200\n"
          ]
        }
      ]
    },
    {
      "cell_type": "code",
      "metadata": {
        "id": "to1TzvdhQBhH",
        "outputId": "6b8f3b1e-3d71-454c-ff5b-2db627cb0226"
      },
      "source": [
        "#Переводим ответ от API в словарь\n",
        "metrika_data = response.json()\n",
        "print(type(metrika_data))"
      ],
      "execution_count": null,
      "outputs": [
        {
          "name": "stdout",
          "output_type": "stream",
          "text": [
            "<class 'dict'>\n"
          ]
        }
      ]
    },
    {
      "cell_type": "code",
      "metadata": {
        "id": "vDdcDNGRQBhI",
        "outputId": "ee383d07-32b0-4402-f793-e45dd53129d0"
      },
      "source": [
        "#Количество строк, которые соответствуют нашему запросу:\n",
        "metrika_data['total_rows']"
      ],
      "execution_count": null,
      "outputs": [
        {
          "data": {
            "text/plain": [
              "107"
            ]
          },
          "execution_count": 51,
          "metadata": {},
          "output_type": "execute_result"
        }
      ]
    },
    {
      "cell_type": "code",
      "metadata": {
        "id": "iIbFXMBzQBhJ",
        "outputId": "559c9723-066d-4b13-82eb-ab327387a29c"
      },
      "source": [
        "#Выведем значение по ключу data в словаре metrika_dat\n",
        "pprint(metrika_data['data'][0:5])"
      ],
      "execution_count": null,
      "outputs": [
        {
          "name": "stdout",
          "output_type": "stream",
          "text": [
            "[{'dimensions': [{'icon_id': '2',\n",
            "                  'icon_type': 'traffic-source',\n",
            "                  'id': 'organic',\n",
            "                  'name': 'Search engine traffic'},\n",
            "                 {'id': '16', 'name': '16:00'}],\n",
            "  'metrics': [251.0, 24.70119522]},\n",
            " {'dimensions': [{'icon_id': '2',\n",
            "                  'icon_type': 'traffic-source',\n",
            "                  'id': 'organic',\n",
            "                  'name': 'Search engine traffic'},\n",
            "                 {'id': '15', 'name': '15:00'}],\n",
            "  'metrics': [240.0, 26.25]},\n",
            " {'dimensions': [{'icon_id': '2',\n",
            "                  'icon_type': 'traffic-source',\n",
            "                  'id': 'organic',\n",
            "                  'name': 'Search engine traffic'},\n",
            "                 {'id': '11', 'name': '11:00'}],\n",
            "  'metrics': [228.0, 25.87719298]},\n",
            " {'dimensions': [{'icon_id': '2',\n",
            "                  'icon_type': 'traffic-source',\n",
            "                  'id': 'organic',\n",
            "                  'name': 'Search engine traffic'},\n",
            "                 {'id': '13', 'name': '13:00'}],\n",
            "  'metrics': [227.0, 28.1938326]},\n",
            " {'dimensions': [{'icon_id': '2',\n",
            "                  'icon_type': 'traffic-source',\n",
            "                  'id': 'organic',\n",
            "                  'name': 'Search engine traffic'},\n",
            "                 {'id': '12', 'name': '12:00'}],\n",
            "  'metrics': [225.0, 24.88888889]}]\n"
          ]
        }
      ]
    },
    {
      "cell_type": "code",
      "metadata": {
        "id": "ZKQLfxFNQBhL",
        "outputId": "abf668bc-eadb-469b-a0e4-c2500fc5f647"
      },
      "source": [
        "#Cоздаем датафрейм\n",
        "metrika_df = pd.DataFrame(metrika_data['data'])\n",
        "display(metrika_df.head()) "
      ],
      "execution_count": null,
      "outputs": [
        {
          "data": {
            "text/html": [
              "<div>\n",
              "<style scoped>\n",
              "    .dataframe tbody tr th:only-of-type {\n",
              "        vertical-align: middle;\n",
              "    }\n",
              "\n",
              "    .dataframe tbody tr th {\n",
              "        vertical-align: top;\n",
              "    }\n",
              "\n",
              "    .dataframe thead th {\n",
              "        text-align: right;\n",
              "    }\n",
              "</style>\n",
              "<table border=\"1\" class=\"dataframe\">\n",
              "  <thead>\n",
              "    <tr style=\"text-align: right;\">\n",
              "      <th></th>\n",
              "      <th>dimensions</th>\n",
              "      <th>metrics</th>\n",
              "    </tr>\n",
              "  </thead>\n",
              "  <tbody>\n",
              "    <tr>\n",
              "      <th>0</th>\n",
              "      <td>[{'icon_id': '2', 'icon_type': 'traffic-source...</td>\n",
              "      <td>[251.0, 24.70119522]</td>\n",
              "    </tr>\n",
              "    <tr>\n",
              "      <th>1</th>\n",
              "      <td>[{'icon_id': '2', 'icon_type': 'traffic-source...</td>\n",
              "      <td>[240.0, 26.25]</td>\n",
              "    </tr>\n",
              "    <tr>\n",
              "      <th>2</th>\n",
              "      <td>[{'icon_id': '2', 'icon_type': 'traffic-source...</td>\n",
              "      <td>[228.0, 25.87719298]</td>\n",
              "    </tr>\n",
              "    <tr>\n",
              "      <th>3</th>\n",
              "      <td>[{'icon_id': '2', 'icon_type': 'traffic-source...</td>\n",
              "      <td>[227.0, 28.1938326]</td>\n",
              "    </tr>\n",
              "    <tr>\n",
              "      <th>4</th>\n",
              "      <td>[{'icon_id': '2', 'icon_type': 'traffic-source...</td>\n",
              "      <td>[225.0, 24.88888889]</td>\n",
              "    </tr>\n",
              "  </tbody>\n",
              "</table>\n",
              "</div>"
            ],
            "text/plain": [
              "                                          dimensions               metrics\n",
              "0  [{'icon_id': '2', 'icon_type': 'traffic-source...  [251.0, 24.70119522]\n",
              "1  [{'icon_id': '2', 'icon_type': 'traffic-source...        [240.0, 26.25]\n",
              "2  [{'icon_id': '2', 'icon_type': 'traffic-source...  [228.0, 25.87719298]\n",
              "3  [{'icon_id': '2', 'icon_type': 'traffic-source...   [227.0, 28.1938326]\n",
              "4  [{'icon_id': '2', 'icon_type': 'traffic-source...  [225.0, 24.88888889]"
            ]
          },
          "metadata": {},
          "output_type": "display_data"
        }
      ]
    },
    {
      "cell_type": "code",
      "metadata": {
        "id": "Jkybpra3QBhN"
      },
      "source": [
        "#Преобразуем данные в так называемый плоский вид, то есть избавимся от вложенных словарей\n",
        "def getMetrikaDataInListOfDicts(metrika_data):\n",
        "    list_of_dicts = []\n",
        "    dimensions_list = metrika_data['query']['dimensions']\n",
        "    metrics_list = metrika_data['query']['metrics']\n",
        "    for data_item in metrika_data['data']:\n",
        "        d = {}\n",
        "        for i,dimension in enumerate(data_item['dimensions']):\n",
        "            d[dimensions_list[i]] = dimension['name']\n",
        "        for i,metric in enumerate(data_item['metrics']):\n",
        "            d[metrics_list[i]] = metric\n",
        "        list_of_dicts.append(d)\n",
        "    return list_of_dicts"
      ],
      "execution_count": null,
      "outputs": []
    },
    {
      "cell_type": "code",
      "metadata": {
        "id": "fgVok23xQBhP",
        "outputId": "f64b1110-456a-4130-b724-7b8c23387d61"
      },
      "source": [
        "metrika_list_of_dicts = getMetrikaDataInListOfDicts(metrika_data)\n",
        "pprint(metrika_list_of_dicts[0:3])"
      ],
      "execution_count": null,
      "outputs": [
        {
          "name": "stdout",
          "output_type": "stream",
          "text": [
            "[{'ym:s:hour': '16:00',\n",
            "  'ym:s:lastsignTrafficSource': 'Search engine traffic',\n",
            "  'ym:s:robotPercentage': 24.70119522,\n",
            "  'ym:s:visits': 251.0},\n",
            " {'ym:s:hour': '15:00',\n",
            "  'ym:s:lastsignTrafficSource': 'Search engine traffic',\n",
            "  'ym:s:robotPercentage': 26.25,\n",
            "  'ym:s:visits': 240.0},\n",
            " {'ym:s:hour': '11:00',\n",
            "  'ym:s:lastsignTrafficSource': 'Search engine traffic',\n",
            "  'ym:s:robotPercentage': 25.87719298,\n",
            "  'ym:s:visits': 228.0}]\n"
          ]
        }
      ]
    },
    {
      "cell_type": "code",
      "metadata": {
        "id": "lsOmiQAmQBhQ",
        "outputId": "8582989b-6d21-48bc-dc49-ea3506e85623"
      },
      "source": [
        "#Создаем итоговый датафрейм\n",
        "metrika_df = pd.DataFrame(metrika_list_of_dicts)\n",
        "display(metrika_df.head())"
      ],
      "execution_count": null,
      "outputs": [
        {
          "data": {
            "text/html": [
              "<div>\n",
              "<style scoped>\n",
              "    .dataframe tbody tr th:only-of-type {\n",
              "        vertical-align: middle;\n",
              "    }\n",
              "\n",
              "    .dataframe tbody tr th {\n",
              "        vertical-align: top;\n",
              "    }\n",
              "\n",
              "    .dataframe thead th {\n",
              "        text-align: right;\n",
              "    }\n",
              "</style>\n",
              "<table border=\"1\" class=\"dataframe\">\n",
              "  <thead>\n",
              "    <tr style=\"text-align: right;\">\n",
              "      <th></th>\n",
              "      <th>ym:s:hour</th>\n",
              "      <th>ym:s:lastsignTrafficSource</th>\n",
              "      <th>ym:s:robotPercentage</th>\n",
              "      <th>ym:s:visits</th>\n",
              "    </tr>\n",
              "  </thead>\n",
              "  <tbody>\n",
              "    <tr>\n",
              "      <th>0</th>\n",
              "      <td>16:00</td>\n",
              "      <td>Search engine traffic</td>\n",
              "      <td>24.701195</td>\n",
              "      <td>251.0</td>\n",
              "    </tr>\n",
              "    <tr>\n",
              "      <th>1</th>\n",
              "      <td>15:00</td>\n",
              "      <td>Search engine traffic</td>\n",
              "      <td>26.250000</td>\n",
              "      <td>240.0</td>\n",
              "    </tr>\n",
              "    <tr>\n",
              "      <th>2</th>\n",
              "      <td>11:00</td>\n",
              "      <td>Search engine traffic</td>\n",
              "      <td>25.877193</td>\n",
              "      <td>228.0</td>\n",
              "    </tr>\n",
              "    <tr>\n",
              "      <th>3</th>\n",
              "      <td>13:00</td>\n",
              "      <td>Search engine traffic</td>\n",
              "      <td>28.193833</td>\n",
              "      <td>227.0</td>\n",
              "    </tr>\n",
              "    <tr>\n",
              "      <th>4</th>\n",
              "      <td>12:00</td>\n",
              "      <td>Search engine traffic</td>\n",
              "      <td>24.888889</td>\n",
              "      <td>225.0</td>\n",
              "    </tr>\n",
              "  </tbody>\n",
              "</table>\n",
              "</div>"
            ],
            "text/plain": [
              "  ym:s:hour ym:s:lastsignTrafficSource  ym:s:robotPercentage  ym:s:visits\n",
              "0     16:00      Search engine traffic             24.701195        251.0\n",
              "1     15:00      Search engine traffic             26.250000        240.0\n",
              "2     11:00      Search engine traffic             25.877193        228.0\n",
              "3     13:00      Search engine traffic             28.193833        227.0\n",
              "4     12:00      Search engine traffic             24.888889        225.0"
            ]
          },
          "metadata": {},
          "output_type": "display_data"
        }
      ]
    },
    {
      "cell_type": "code",
      "metadata": {
        "id": "qUpKO0KYQBhR",
        "outputId": "c5660972-79cf-4097-ed4e-d336fb218214"
      },
      "source": [
        "#Меняем названия столбцов и создаем столбец с количеством ботов\n",
        "metrika_df.columns=['Time','Source','RobotPercentage', 'Visits']\n",
        "metrika_df['RobotCount'] = metrika_df['Visits']*metrika_df['RobotPercentage']/100\n",
        "display(metrika_df.head())"
      ],
      "execution_count": null,
      "outputs": [
        {
          "data": {
            "text/html": [
              "<div>\n",
              "<style scoped>\n",
              "    .dataframe tbody tr th:only-of-type {\n",
              "        vertical-align: middle;\n",
              "    }\n",
              "\n",
              "    .dataframe tbody tr th {\n",
              "        vertical-align: top;\n",
              "    }\n",
              "\n",
              "    .dataframe thead th {\n",
              "        text-align: right;\n",
              "    }\n",
              "</style>\n",
              "<table border=\"1\" class=\"dataframe\">\n",
              "  <thead>\n",
              "    <tr style=\"text-align: right;\">\n",
              "      <th></th>\n",
              "      <th>Time</th>\n",
              "      <th>Source</th>\n",
              "      <th>RobotPercentage</th>\n",
              "      <th>Visits</th>\n",
              "      <th>RobotCount</th>\n",
              "    </tr>\n",
              "  </thead>\n",
              "  <tbody>\n",
              "    <tr>\n",
              "      <th>0</th>\n",
              "      <td>16:00</td>\n",
              "      <td>Search engine traffic</td>\n",
              "      <td>24.701195</td>\n",
              "      <td>251.0</td>\n",
              "      <td>62.0</td>\n",
              "    </tr>\n",
              "    <tr>\n",
              "      <th>1</th>\n",
              "      <td>15:00</td>\n",
              "      <td>Search engine traffic</td>\n",
              "      <td>26.250000</td>\n",
              "      <td>240.0</td>\n",
              "      <td>63.0</td>\n",
              "    </tr>\n",
              "    <tr>\n",
              "      <th>2</th>\n",
              "      <td>11:00</td>\n",
              "      <td>Search engine traffic</td>\n",
              "      <td>25.877193</td>\n",
              "      <td>228.0</td>\n",
              "      <td>59.0</td>\n",
              "    </tr>\n",
              "    <tr>\n",
              "      <th>3</th>\n",
              "      <td>13:00</td>\n",
              "      <td>Search engine traffic</td>\n",
              "      <td>28.193833</td>\n",
              "      <td>227.0</td>\n",
              "      <td>64.0</td>\n",
              "    </tr>\n",
              "    <tr>\n",
              "      <th>4</th>\n",
              "      <td>12:00</td>\n",
              "      <td>Search engine traffic</td>\n",
              "      <td>24.888889</td>\n",
              "      <td>225.0</td>\n",
              "      <td>56.0</td>\n",
              "    </tr>\n",
              "  </tbody>\n",
              "</table>\n",
              "</div>"
            ],
            "text/plain": [
              "    Time                 Source  RobotPercentage  Visits  RobotCount\n",
              "0  16:00  Search engine traffic        24.701195   251.0        62.0\n",
              "1  15:00  Search engine traffic        26.250000   240.0        63.0\n",
              "2  11:00  Search engine traffic        25.877193   228.0        59.0\n",
              "3  13:00  Search engine traffic        28.193833   227.0        64.0\n",
              "4  12:00  Search engine traffic        24.888889   225.0        56.0"
            ]
          },
          "metadata": {},
          "output_type": "display_data"
        }
      ]
    },
    {
      "cell_type": "code",
      "metadata": {
        "id": "QltniW0wQBhR",
        "outputId": "36d57e9d-a429-4565-e338-441c6d315e19"
      },
      "source": [
        "#Считаем общую долю ботов\n",
        "a=metrika_df.RobotCount.sum()\n",
        "b=metrika_df.Visits.sum()\n",
        "c=a/b*100\n",
        "print('На сайт заходят {} ботов, их доля от всего трафика составляет {}%'.format(round(a,0),round(c,2)))"
      ],
      "execution_count": null,
      "outputs": [
        {
          "name": "stdout",
          "output_type": "stream",
          "text": [
            "На сайт заходят 962.0 ботов, их доля от всего трафика составляет 22.29%\n"
          ]
        }
      ]
    },
    {
      "cell_type": "code",
      "metadata": {
        "id": "etSUZDdOQBhT",
        "outputId": "053fba87-ac2e-4f30-e0a5-044aa13b4c56"
      },
      "source": [
        "#Источники, с которых заходят роботы\n",
        "metrika_df.groupby(['Source']).RobotCount.sum().sort_values(ascending = False)"
      ],
      "execution_count": null,
      "outputs": [
        {
          "data": {
            "text/plain": [
              "Source\n",
              "Search engine traffic            739.0\n",
              "Direct traffic                   177.0\n",
              "Link traffic                      31.0\n",
              "Social network traffic            11.0\n",
              "Internal traffic                   3.0\n",
              "Cached page traffic                1.0\n",
              "Recommendation system traffic      0.0\n",
              "Name: RobotCount, dtype: float64"
            ]
          },
          "execution_count": 59,
          "metadata": {},
          "output_type": "execute_result"
        }
      ]
    },
    {
      "cell_type": "code",
      "metadata": {
        "id": "QkwJxCuzQBhU",
        "outputId": "48b94535-dc75-487c-b9aa-31b1a2b37d4e"
      },
      "source": [
        "#Время, в которое чаще заходят роботы\n",
        "metrika_df.groupby(['Time']).RobotCount.sum().sort_values(ascending = False).head(7)"
      ],
      "execution_count": null,
      "outputs": [
        {
          "data": {
            "text/plain": [
              "Time\n",
              "13:00    80.0\n",
              "16:00    75.0\n",
              "12:00    75.0\n",
              "14:00    74.0\n",
              "15:00    71.0\n",
              "11:00    70.0\n",
              "17:00    66.0\n",
              "Name: RobotCount, dtype: float64"
            ]
          },
          "execution_count": 60,
          "metadata": {},
          "output_type": "execute_result"
        }
      ]
    },
    {
      "cell_type": "markdown",
      "metadata": {
        "id": "3btOEGumQBhV"
      },
      "source": [
        "# Выводы\n",
        "### 1. На сайт заходят 962.0 ботов, их доля от всего трафика составляет 22.29%\n",
        "### 2. Боты чаще всего заходят с Search engine traffic и днём с 12 до 16 часов"
      ]
    },
    {
      "cell_type": "code",
      "metadata": {
        "id": "ByznnruWQBhW"
      },
      "source": [
        ""
      ],
      "execution_count": null,
      "outputs": []
    }
  ]
}